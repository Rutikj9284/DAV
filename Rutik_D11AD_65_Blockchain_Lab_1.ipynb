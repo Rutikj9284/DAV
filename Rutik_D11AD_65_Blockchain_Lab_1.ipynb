{
  "nbformat": 4,
  "nbformat_minor": 0,
  "metadata": {
    "colab": {
      "provenance": [],
      "include_colab_link": true
    },
    "kernelspec": {
      "name": "python3",
      "display_name": "Python 3"
    },
    "language_info": {
      "name": "python"
    }
  },
  "cells": [
    {
      "cell_type": "markdown",
      "metadata": {
        "id": "view-in-github",
        "colab_type": "text"
      },
      "source": [
        "<a href=\"https://colab.research.google.com/github/Rutikj9284/DAV/blob/main/Rutik_D11AD_65_Blockchain_Lab_1.ipynb\" target=\"_parent\"><img src=\"https://colab.research.google.com/assets/colab-badge.svg\" alt=\"Open In Colab\"/></a>"
      ]
    },
    {
      "cell_type": "markdown",
      "source": [
        "**Program #1: Python program that uses the hashlib library to create the hash of a given string:**"
      ],
      "metadata": {
        "id": "xt23FKbj5PGM"
      }
    },
    {
      "cell_type": "markdown",
      "source": [
        "XXXXXXX #error statement; 3 Error"
      ],
      "metadata": {
        "id": "_FcwY9gi5XUi"
      }
    },
    {
      "cell_type": "code",
      "source": [
        "import hashlib\n",
        "\n",
        "def create_hash(string):\n",
        "    # Create a hash object using SHA-256 algorithm\n",
        "    hash_object = hashlib.sha256()\n",
        "    # Convert the string to bytes and update the hash object\n",
        "    hash_object.update(string.encode('utf-8'))\n",
        "    # Get the hexadecimal representation of the hash\n",
        "    hash_string = hash_object.hexdigest()\n",
        "    # Return the hash string\n",
        "    return hash_string\n",
        "\n",
        "# Example usage\n",
        "input_string = input(\"Enter a string: \")\n",
        "hash_result = create_hash(input_string)\n",
        "print(\"Hash:\", hash_result)"
      ],
      "metadata": {
        "colab": {
          "base_uri": "https://localhost:8080/"
        },
        "id": "FTBOrZV--BNa",
        "outputId": "86f00746-75f6-4f0c-fce5-71d5c8efeb15"
      },
      "execution_count": 1,
      "outputs": [
        {
          "output_type": "stream",
          "name": "stdout",
          "text": [
            "Enter a string: rutik\n",
            "Hash: 15c4a81ba3767a86a98c1c7a0d61fe334c96cc5fa7f58e6256d12cc93b2ce3b6\n"
          ]
        }
      ]
    },
    {
      "cell_type": "markdown",
      "source": [
        "**Program #2: Program to generate required target hash with input string and nonce**"
      ],
      "metadata": {
        "id": "XvkglGqRGkAy"
      }
    },
    {
      "cell_type": "code",
      "source": [
        "import hashlib\n",
        "\n",
        "# Get user input\n",
        "input_string = input(\"Enter a string: \")\n",
        "nonce = input(\"Enter the nonce: \")\n",
        "\n",
        "# Concatenate the string and nonce\n",
        "concatenated_string = input_string + nonce\n",
        "\n",
        "# Calculate the hash using SHA-256\n",
        "hash_object = hashlib.sha256(concatenated_string.encode('utf-8'))\n",
        "hash_code = hash_object.hexdigest()\n",
        "\n",
        "# Print the hash code\n",
        "print(\"Hash Code:\", hash_code)\n"
      ],
      "metadata": {
        "colab": {
          "base_uri": "https://localhost:8080/"
        },
        "id": "v9lnoo1MGwfx",
        "outputId": "c20644a7-c353-411e-ae9f-def3e49d56df"
      },
      "execution_count": 2,
      "outputs": [
        {
          "output_type": "stream",
          "name": "stdout",
          "text": [
            "Enter a string: rutik\n",
            "Enter the nonce: bc5\n",
            "Hash Code: 3ad306ec1ecaa59bbdc8dcc44af5c40cda2a60bfe8c2082fb5298e2849a7295d\n"
          ]
        }
      ]
    },
    {
      "cell_type": "markdown",
      "source": [
        "**Program #3: Python code for Solving Puzzle for leading zeros with expected nonce and given string**\n",
        "3 Error"
      ],
      "metadata": {
        "id": "bp9jq6hYHFKq"
      }
    },
    {
      "cell_type": "code",
      "source": [
        "import hashlib\n",
        "\n",
        "def find_nonce(input_string, num_zeros):\n",
        "    nonce = 0\n",
        "    hash_prefix = '0' * num_zeros\n",
        "\n",
        "    while True:\n",
        "        # Concatenate the string and nonce\n",
        "        hash_string = input_string + str(nonce)\n",
        "        # Calculate the hash using SHA-256\n",
        "        hash_object = hashlib.sha256(hash_string.encode('utf-8'))\n",
        "        hash_code = hash_object.hexdigest()\n",
        "\n",
        "        # Check if the hash code has the required number of leading zeros\n",
        "        if hash_code.startswith(hash_prefix):\n",
        "            print(\"Hash:\", hash_code)\n",
        "            return nonce\n",
        "\n",
        "        nonce += 1\n",
        "\n",
        "# Get user input\n",
        "input_string = \"A\"\n",
        "num_zeros = 1\n",
        "\n",
        "# Find the expected nonce\n",
        "expected_nonce = find_nonce(input_string, num_zeros)\n",
        "\n",
        "# Print the expected nonce\n",
        "print(\"Input String:\", input_string)\n",
        "print(\"Leading Zeros:\", num_zeros)\n",
        "print(\"Expected Nonce:\", expected_nonce)\n"
      ],
      "metadata": {
        "id": "eD_YxpMBIUgx",
        "colab": {
          "base_uri": "https://localhost:8080/"
        },
        "outputId": "886dd18d-c41f-4461-ec60-8823ea520385"
      },
      "execution_count": 3,
      "outputs": [
        {
          "output_type": "stream",
          "name": "stdout",
          "text": [
            "Hash: 06663975f75f189f1d70bd14d8f22df264cd6a5c7575d6875183d0ec76432fbb\n",
            "Input String: A\n",
            "Leading Zeros: 1\n",
            "Expected Nonce: 9\n"
          ]
        }
      ]
    },
    {
      "cell_type": "markdown",
      "source": [
        "**Program 4: Generating Merkle Tree for given set of Transactions**"
      ],
      "metadata": {
        "id": "S47pVcOIOBss"
      }
    },
    {
      "cell_type": "code",
      "source": [
        "import hashlib\n",
        "\n",
        "def build_merkle_tree(transactions):\n",
        "    if len(transactions) == 0:\n",
        "        return None\n",
        "\n",
        "    if len(transactions) == 1:\n",
        "        return hashlib.sha256(transactions[0].encode('utf-8')).hexdigest()\n",
        "\n",
        "    # Recursive construction of the Merkle Tree\n",
        "    while len(transactions) > 1:\n",
        "        if len(transactions) % 2 != 0:\n",
        "            transactions.append(transactions[-1])\n",
        "\n",
        "        new_transactions = []\n",
        "        for i in range(0, len(transactions), 2):\n",
        "            combined = transactions[i] + transactions[i+1]\n",
        "            hash_combined = hashlib.sha256(combined.encode('utf-8')).hexdigest()\n",
        "            print(\"Intermediate Hash:\", hash_combined)\n",
        "            new_transactions.append(hash_combined)\n",
        "\n",
        "        transactions = new_transactions\n",
        "\n",
        "    return transactions[0]\n",
        "\n",
        "# Example usage\n",
        "transactions = [\n",
        "    \"Alice → Bob : $200;\",\n",
        "    \"Bob → Dave : $500;\",\n",
        "    \"Dave → Eve : $100\",\n",
        "    \"Eve → Alice : $300;\",\n",
        "    \"Roo → Bob : $50\"\n",
        "]\n",
        "\n",
        "merkle_root = build_merkle_tree(transactions)\n",
        "print(\"Merkle Root:\", merkle_root)\n"
      ],
      "metadata": {
        "colab": {
          "base_uri": "https://localhost:8080/"
        },
        "id": "uxdoyP1MSqh5",
        "outputId": "87ed1320-262f-4574-cbc0-59d6e315b181"
      },
      "execution_count": 4,
      "outputs": [
        {
          "output_type": "stream",
          "name": "stdout",
          "text": [
            "Intermediate Hash: 3862dd599e17a45bc956cafce1957a878d96fd75cd18a473e37fbfecc4f0ad0b\n",
            "Intermediate Hash: 40cab4fbdf7786478f0eb46aa30b465b4f80c395f59356f5a7bfddad099e54ca\n",
            "Intermediate Hash: 1c38b690dffd0c9cd3d1f996eb8cbc2b06564dc747561eed43249a52271d9430\n",
            "Intermediate Hash: c8de26c9bc18b4cfbfa20a6b6762d8578f5a88075284e184288c61a47e7164cb\n",
            "Intermediate Hash: 8b32cf64ef5ab79e33bc54d5a83c3d330ace95eeb404401a677ebe1003cc1f17\n",
            "Intermediate Hash: 191a9ccb29169525be91dcc2c48c7ad268e09ceeb83a67ff2dc8dcaf6d7d4020\n",
            "Merkle Root: 191a9ccb29169525be91dcc2c48c7ad268e09ceeb83a67ff2dc8dcaf6d7d4020\n"
          ]
        }
      ]
    }
  ]
}