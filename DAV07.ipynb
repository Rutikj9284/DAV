{
  "cells": [
    {
      "cell_type": "markdown",
      "metadata": {
        "id": "_6JAIPSKGo6r"
      },
      "source": [
        "Aim :- To Perform the steps involved in Text Analytics in Python & R"
      ]
    },
    {
      "cell_type": "markdown",
      "metadata": {
        "id": "YaSGogHaGxeb"
      },
      "source": [
        "Tasks Performed"
      ]
    },
    {
      "cell_type": "markdown",
      "metadata": {
        "id": "owuQXf73G5r7"
      },
      "source": [
        "**1.Tokenization**"
      ]
    },
    {
      "cell_type": "code",
      "execution_count": null,
      "metadata": {
        "colab": {
          "base_uri": "https://localhost:8080/"
        },
        "id": "_X8OIbd_GRhd",
        "outputId": "343a3b5f-052f-4aa1-b776-dc542f6d95d6"
      },
      "outputs": [
        {
          "name": "stdout",
          "output_type": "stream",
          "text": [
            "Requirement already satisfied: nltk in /usr/local/lib/python3.10/dist-packages (3.8.1)\n",
            "Requirement already satisfied: click in /usr/local/lib/python3.10/dist-packages (from nltk) (8.1.7)\n",
            "Requirement already satisfied: joblib in /usr/local/lib/python3.10/dist-packages (from nltk) (1.3.2)\n",
            "Requirement already satisfied: regex>=2021.8.3 in /usr/local/lib/python3.10/dist-packages (from nltk) (2023.12.25)\n",
            "Requirement already satisfied: tqdm in /usr/local/lib/python3.10/dist-packages (from nltk) (4.66.1)\n"
          ]
        }
      ],
      "source": [
        "!pip install nltk"
      ]
    },
    {
      "cell_type": "code",
      "execution_count": null,
      "metadata": {
        "colab": {
          "base_uri": "https://localhost:8080/"
        },
        "id": "ErVNDfNwHVOO",
        "outputId": "9b5b2edd-75de-4099-b0e7-448fa1e48e4c"
      },
      "outputs": [
        {
          "name": "stderr",
          "output_type": "stream",
          "text": [
            "[nltk_data] Downloading package punkt to /root/nltk_data...\n",
            "[nltk_data]   Unzipping tokenizers/punkt.zip.\n"
          ]
        },
        {
          "name": "stdout",
          "output_type": "stream",
          "text": [
            "Sentences: [' I remember when I first arrived in the United States.', 'Even before the plane landed, the little windows in the airplane revealed snow and ice-covered houses and buildings.', 'As I walked off the plane, cold air crept through the corrugated ramp that led to the airport terminal.', 'Some people inside the airport were wearing big coats and hats, which I had seen on television, but never up close.', 'I felt a little dizzy and needed to sit down, and then my cell phone rang.', 'It was my Aunt Sophia.', 'She was waiting for me outside in the passenger pick-up area, so I walked quickly to the exit, forgetting all about my luggage.', 'When the sliding glass door opened to the outside, there was my aunt–a woman I hadn’t seen in over ten years–wearing a parka and waving her arms frantically in my direction.']\n",
            "Words: ['I', 'remember', 'when', 'I', 'first', 'arrived', 'in', 'the', 'United', 'States', '.', 'Even', 'before', 'the', 'plane', 'landed', ',', 'the', 'little', 'windows', 'in', 'the', 'airplane', 'revealed', 'snow', 'and', 'ice-covered', 'houses', 'and', 'buildings', '.', 'As', 'I', 'walked', 'off', 'the', 'plane', ',', 'cold', 'air', 'crept', 'through', 'the', 'corrugated', 'ramp', 'that', 'led', 'to', 'the', 'airport', 'terminal', '.', 'Some', 'people', 'inside', 'the', 'airport', 'were', 'wearing', 'big', 'coats', 'and', 'hats', ',', 'which', 'I', 'had', 'seen', 'on', 'television', ',', 'but', 'never', 'up', 'close', '.', 'I', 'felt', 'a', 'little', 'dizzy', 'and', 'needed', 'to', 'sit', 'down', ',', 'and', 'then', 'my', 'cell', 'phone', 'rang', '.', 'It', 'was', 'my', 'Aunt', 'Sophia', '.', 'She', 'was', 'waiting', 'for', 'me', 'outside', 'in', 'the', 'passenger', 'pick-up', 'area', ',', 'so', 'I', 'walked', 'quickly', 'to', 'the', 'exit', ',', 'forgetting', 'all', 'about', 'my', 'luggage', '.', 'When', 'the', 'sliding', 'glass', 'door', 'opened', 'to', 'the', 'outside', ',', 'there', 'was', 'my', 'aunt–a', 'woman', 'I', 'hadn', '’', 't', 'seen', 'in', 'over', 'ten', 'years–wearing', 'a', 'parka', 'and', 'waving', 'her', 'arms', 'frantically', 'in', 'my', 'direction', '.']\n"
          ]
        }
      ],
      "source": [
        "import nltk\n",
        "nltk.download('punkt')\n",
        "\n",
        "text = \" I remember when I first arrived in the United States. Even before the plane landed, the little windows in the airplane revealed snow and ice-covered houses and buildings. As I walked off the plane, cold air crept through the corrugated ramp that led to the airport terminal. Some people inside the airport were wearing big coats and hats, which I had seen on television, but never up close. I felt a little dizzy and needed to sit down, and then my cell phone rang. It was my Aunt Sophia. She was waiting for me outside in the passenger pick-up area, so I walked quickly to the exit, forgetting all about my luggage. When the sliding glass door opened to the outside, there was my aunt–a woman I hadn’t seen in over ten years–wearing a parka and waving her arms frantically in my direction.\"\n",
        "sentences = nltk.sent_tokenize(text)\n",
        "words = nltk.word_tokenize(text)\n",
        "\n",
        "print(\"Sentences:\", sentences)\n",
        "print(\"Words:\", words)"
      ]
    },
    {
      "cell_type": "markdown",
      "metadata": {
        "id": "CjiqAj84Hv0M"
      },
      "source": [
        "**2.Frequency Distribution**"
      ]
    },
    {
      "cell_type": "code",
      "execution_count": null,
      "metadata": {
        "colab": {
          "base_uri": "https://localhost:8080/"
        },
        "id": "3okE8LLWH4_K",
        "outputId": "4f46185a-243a-478d-d4b0-6d9ded602b7a"
      },
      "outputs": [
        {
          "name": "stdout",
          "output_type": "stream",
          "text": [
            "Frequency Distribution: [('the', 12), ('.', 8), (',', 8), ('I', 7), ('and', 6), ('in', 5), ('my', 5), ('to', 4), ('was', 3), ('plane', 2), ('little', 2), ('walked', 2), ('airport', 2), ('seen', 2), ('a', 2), ('outside', 2), ('remember', 1), ('when', 1), ('first', 1), ('arrived', 1), ('United', 1), ('States', 1), ('Even', 1), ('before', 1), ('landed', 1), ('windows', 1), ('airplane', 1), ('revealed', 1), ('snow', 1), ('ice-covered', 1), ('houses', 1), ('buildings', 1), ('As', 1), ('off', 1), ('cold', 1), ('air', 1), ('crept', 1), ('through', 1), ('corrugated', 1), ('ramp', 1), ('that', 1), ('led', 1), ('terminal', 1), ('Some', 1), ('people', 1), ('inside', 1), ('were', 1), ('wearing', 1), ('big', 1), ('coats', 1), ('hats', 1), ('which', 1), ('had', 1), ('on', 1), ('television', 1), ('but', 1), ('never', 1), ('up', 1), ('close', 1), ('felt', 1), ('dizzy', 1), ('needed', 1), ('sit', 1), ('down', 1), ('then', 1), ('cell', 1), ('phone', 1), ('rang', 1), ('It', 1), ('Aunt', 1), ('Sophia', 1), ('She', 1), ('waiting', 1), ('for', 1), ('me', 1), ('passenger', 1), ('pick-up', 1), ('area', 1), ('so', 1), ('quickly', 1), ('exit', 1), ('forgetting', 1), ('all', 1), ('about', 1), ('luggage', 1), ('When', 1), ('sliding', 1), ('glass', 1), ('door', 1), ('opened', 1), ('there', 1), ('aunt–a', 1), ('woman', 1), ('hadn', 1), ('’', 1), ('t', 1), ('over', 1), ('ten', 1), ('years–wearing', 1), ('parka', 1), ('waving', 1), ('her', 1), ('arms', 1), ('frantically', 1), ('direction', 1)]\n"
          ]
        }
      ],
      "source": [
        "from nltk import FreqDist\n",
        "\n",
        "fdist = FreqDist(words)\n",
        "print(\"Frequency Distribution:\", fdist.most_common())"
      ]
    },
    {
      "cell_type": "markdown",
      "metadata": {
        "id": "oMyXntUTIdSF"
      },
      "source": [
        "3. Remove Stopwords & ***Punctuation***"
      ]
    },
    {
      "cell_type": "code",
      "execution_count": null,
      "metadata": {
        "colab": {
          "base_uri": "https://localhost:8080/"
        },
        "id": "s4CFyzPKIonp",
        "outputId": "4d97b2f0-3211-4aaf-bc95-581a3b120394"
      },
      "outputs": [
        {
          "name": "stderr",
          "output_type": "stream",
          "text": [
            "[nltk_data] Downloading package stopwords to /root/nltk_data...\n",
            "[nltk_data]   Unzipping corpora/stopwords.zip.\n"
          ]
        },
        {
          "data": {
            "text/plain": [
              "True"
            ]
          },
          "execution_count": 6,
          "metadata": {},
          "output_type": "execute_result"
        }
      ],
      "source": [
        "nltk.download('stopwords')"
      ]
    },
    {
      "cell_type": "code",
      "execution_count": null,
      "metadata": {
        "colab": {
          "base_uri": "https://localhost:8080/"
        },
        "id": "mfJQnBAIIhOQ",
        "outputId": "e4dd8312-d73d-4657-ca74-b6cc18c186de"
      },
      "outputs": [
        {
          "name": "stdout",
          "output_type": "stream",
          "text": [
            "Filtered Words: ['remember', 'first', 'arrived', 'United', 'States', 'Even', 'plane', 'landed', 'little', 'windows', 'airplane', 'revealed', 'snow', 'ice-covered', 'houses', 'buildings', 'walked', 'plane', 'cold', 'air', 'crept', 'corrugated', 'ramp', 'led', 'airport', 'terminal', 'people', 'inside', 'airport', 'wearing', 'big', 'coats', 'hats', 'seen', 'television', 'never', 'close', 'felt', 'little', 'dizzy', 'needed', 'sit', 'cell', 'phone', 'rang', 'Aunt', 'Sophia', 'waiting', 'outside', 'passenger', 'pick-up', 'area', 'walked', 'quickly', 'exit', 'forgetting', 'luggage', 'sliding', 'glass', 'door', 'opened', 'outside', 'aunt–a', 'woman', '’', 'seen', 'ten', 'years–wearing', 'parka', 'waving', 'arms', 'frantically', 'direction']\n"
          ]
        }
      ],
      "source": [
        "from nltk.corpus import stopwords\n",
        "import string\n",
        "\n",
        "stop_words = set(stopwords.words('english'))\n",
        "filtered_words = [word for word in words if word.lower() not in stop_words and word not in string.punctuation]\n",
        "\n",
        "print(\"Filtered Words:\", filtered_words)"
      ]
    },
    {
      "cell_type": "markdown",
      "metadata": {
        "id": "yR0KJCKAJA1N"
      },
      "source": [
        "**4.Lexicon Normalization (Stemming, Lemmatization):**"
      ]
    },
    {
      "cell_type": "code",
      "execution_count": null,
      "metadata": {
        "colab": {
          "base_uri": "https://localhost:8080/"
        },
        "id": "10G_mNx3JIky",
        "outputId": "86b3873f-91dd-4cd5-eb86-70ed3347646d"
      },
      "outputs": [
        {
          "name": "stderr",
          "output_type": "stream",
          "text": [
            "[nltk_data] Downloading package wordnet to /root/nltk_data...\n"
          ]
        },
        {
          "data": {
            "text/plain": [
              "True"
            ]
          },
          "execution_count": 9,
          "metadata": {},
          "output_type": "execute_result"
        }
      ],
      "source": [
        "nltk.download('wordnet')"
      ]
    },
    {
      "cell_type": "code",
      "execution_count": null,
      "metadata": {
        "colab": {
          "base_uri": "https://localhost:8080/"
        },
        "id": "PGGdLPUXJEFj",
        "outputId": "0713d09f-4799-4c66-a1b7-add579adb6e5"
      },
      "outputs": [
        {
          "name": "stdout",
          "output_type": "stream",
          "text": [
            "Stemmed Words: ['rememb', 'first', 'arriv', 'unit', 'state', 'even', 'plane', 'land', 'littl', 'window', 'airplan', 'reveal', 'snow', 'ice-cov', 'hous', 'build', 'walk', 'plane', 'cold', 'air', 'crept', 'corrug', 'ramp', 'led', 'airport', 'termin', 'peopl', 'insid', 'airport', 'wear', 'big', 'coat', 'hat', 'seen', 'televis', 'never', 'close', 'felt', 'littl', 'dizzi', 'need', 'sit', 'cell', 'phone', 'rang', 'aunt', 'sophia', 'wait', 'outsid', 'passeng', 'pick-up', 'area', 'walk', 'quickli', 'exit', 'forget', 'luggag', 'slide', 'glass', 'door', 'open', 'outsid', 'aunt–a', 'woman', '’', 'seen', 'ten', 'years–wear', 'parka', 'wave', 'arm', 'frantic', 'direct']\n",
            "Lemmatized Words: ['remember', 'first', 'arrived', 'United', 'States', 'Even', 'plane', 'landed', 'little', 'window', 'airplane', 'revealed', 'snow', 'ice-covered', 'house', 'building', 'walked', 'plane', 'cold', 'air', 'crept', 'corrugated', 'ramp', 'led', 'airport', 'terminal', 'people', 'inside', 'airport', 'wearing', 'big', 'coat', 'hat', 'seen', 'television', 'never', 'close', 'felt', 'little', 'dizzy', 'needed', 'sit', 'cell', 'phone', 'rang', 'Aunt', 'Sophia', 'waiting', 'outside', 'passenger', 'pick-up', 'area', 'walked', 'quickly', 'exit', 'forgetting', 'luggage', 'sliding', 'glass', 'door', 'opened', 'outside', 'aunt–a', 'woman', '’', 'seen', 'ten', 'years–wearing', 'parka', 'waving', 'arm', 'frantically', 'direction']\n"
          ]
        }
      ],
      "source": [
        "from nltk.stem import PorterStemmer, WordNetLemmatizer\n",
        "\n",
        "stemmer = PorterStemmer()\n",
        "lemmatizer = WordNetLemmatizer()\n",
        "\n",
        "stemmed_words = [stemmer.stem(word) for word in filtered_words]\n",
        "lemmatized_words = [lemmatizer.lemmatize(word) for word in filtered_words]\n",
        "\n",
        "print(\"Stemmed Words:\", stemmed_words)\n",
        "print(\"Lemmatized Words:\", lemmatized_words)"
      ]
    },
    {
      "cell_type": "markdown",
      "metadata": {
        "id": "aMmv60GZJYVj"
      },
      "source": [
        "**5.Parts of Speech Tagging**"
      ]
    },
    {
      "cell_type": "code",
      "execution_count": null,
      "metadata": {
        "colab": {
          "base_uri": "https://localhost:8080/"
        },
        "id": "8nI-67EkJwOU",
        "outputId": "9c9c52e6-1e81-4e8e-aa68-f2a39a61056b"
      },
      "outputs": [
        {
          "name": "stderr",
          "output_type": "stream",
          "text": [
            "[nltk_data] Downloading package averaged_perceptron_tagger to\n",
            "[nltk_data]     /root/nltk_data...\n",
            "[nltk_data]   Unzipping taggers/averaged_perceptron_tagger.zip.\n"
          ]
        },
        {
          "data": {
            "text/plain": [
              "True"
            ]
          },
          "execution_count": 15,
          "metadata": {},
          "output_type": "execute_result"
        }
      ],
      "source": [
        "nltk.download('averaged_perceptron_tagger')"
      ]
    },
    {
      "cell_type": "code",
      "execution_count": null,
      "metadata": {
        "colab": {
          "base_uri": "https://localhost:8080/"
        },
        "id": "U2zWTlsJJdQc",
        "outputId": "a7706292-91ea-4a7d-c61e-4054a21b8e61"
      },
      "outputs": [
        {
          "name": "stdout",
          "output_type": "stream",
          "text": [
            "POS tags: [('remember', 'VB'), ('first', 'JJ'), ('arrived', 'VBN'), ('United', 'NNP'), ('States', 'NNPS'), ('Even', 'RB'), ('plane', 'VB'), ('landed', 'VBD'), ('little', 'JJ'), ('windows', 'NNS'), ('airplane', 'NN'), ('revealed', 'VBD'), ('snow', 'JJ'), ('ice-covered', 'JJ'), ('houses', 'NNS'), ('buildings', 'NNS'), ('walked', 'VBD'), ('plane', 'NN'), ('cold', 'NN'), ('air', 'NN'), ('crept', 'VBD'), ('corrugated', 'VBN'), ('ramp', 'NN'), ('led', 'VBD'), ('airport', 'JJ'), ('terminal', 'JJ'), ('people', 'NNS'), ('inside', 'IN'), ('airport', 'NN'), ('wearing', 'VBG'), ('big', 'JJ'), ('coats', 'NNS'), ('hats', 'VBP'), ('seen', 'VBN'), ('television', 'NN'), ('never', 'RB'), ('close', 'RB'), ('felt', 'VBD'), ('little', 'JJ'), ('dizzy', 'NN'), ('needed', 'VBN'), ('sit', 'NN'), ('cell', 'NN'), ('phone', 'NN'), ('rang', 'NN'), ('Aunt', 'NNP'), ('Sophia', 'NNP'), ('waiting', 'VBG'), ('outside', 'JJ'), ('passenger', 'NN'), ('pick-up', 'JJ'), ('area', 'NN'), ('walked', 'VBD'), ('quickly', 'RB'), ('exit', 'NN'), ('forgetting', 'VBG'), ('luggage', 'NN'), ('sliding', 'VBG'), ('glass', 'NN'), ('door', 'NN'), ('opened', 'VBD'), ('outside', 'JJ'), ('aunt–a', 'IN'), ('woman', 'NN'), ('’', 'VBP'), ('seen', 'VBN'), ('ten', 'JJ'), ('years–wearing', 'VBG'), ('parka', 'NN'), ('waving', 'VBG'), ('arms', 'NNS'), ('frantically', 'RB'), ('direction', 'NN')]\n"
          ]
        }
      ],
      "source": [
        "pos_tags = nltk.pos_tag(filtered_words)\n",
        "print(\"POS tags:\", pos_tags)"
      ]
    },
    {
      "cell_type": "markdown",
      "metadata": {
        "id": "vc3V1DZ2KKxL"
      },
      "source": [
        "**6.Entity Recognition**"
      ]
    },
    {
      "cell_type": "code",
      "execution_count": null,
      "metadata": {
        "colab": {
          "base_uri": "https://localhost:8080/"
        },
        "id": "aXBgozltKRNm",
        "outputId": "73a48ff5-41ab-4143-b457-12278e690a54"
      },
      "outputs": [
        {
          "name": "stderr",
          "output_type": "stream",
          "text": [
            "[nltk_data] Downloading package maxent_ne_chunker to\n",
            "[nltk_data]     /root/nltk_data...\n",
            "[nltk_data]   Unzipping chunkers/maxent_ne_chunker.zip.\n"
          ]
        },
        {
          "data": {
            "text/plain": [
              "True"
            ]
          },
          "execution_count": 20,
          "metadata": {},
          "output_type": "execute_result"
        }
      ],
      "source": [
        "nltk.download('maxent_ne_chunker')"
      ]
    },
    {
      "cell_type": "code",
      "execution_count": null,
      "metadata": {
        "colab": {
          "base_uri": "https://localhost:8080/"
        },
        "id": "PdcAVBE9LLg1",
        "outputId": "00152183-4b66-4a63-cc07-0af52e60eab9"
      },
      "outputs": [
        {
          "name": "stderr",
          "output_type": "stream",
          "text": [
            "[nltk_data] Downloading package words to /root/nltk_data...\n",
            "[nltk_data]   Unzipping corpora/words.zip.\n"
          ]
        },
        {
          "data": {
            "text/plain": [
              "True"
            ]
          },
          "execution_count": 22,
          "metadata": {},
          "output_type": "execute_result"
        }
      ],
      "source": [
        "nltk.download('words')"
      ]
    },
    {
      "cell_type": "code",
      "execution_count": null,
      "metadata": {
        "colab": {
          "base_uri": "https://localhost:8080/"
        },
        "id": "pIpFH8BZKOok",
        "outputId": "51c4e28a-1e9a-42da-c289-cee91b558cca"
      },
      "outputs": [
        {
          "name": "stdout",
          "output_type": "stream",
          "text": [
            "Named Entities: (S\n",
            "  remember/VB\n",
            "  first/JJ\n",
            "  arrived/VBN\n",
            "  (GPE United/NNP States/NNPS)\n",
            "  Even/RB\n",
            "  plane/VB\n",
            "  landed/VBD\n",
            "  little/JJ\n",
            "  windows/NNS\n",
            "  airplane/NN\n",
            "  revealed/VBD\n",
            "  snow/JJ\n",
            "  ice-covered/JJ\n",
            "  houses/NNS\n",
            "  buildings/NNS\n",
            "  walked/VBD\n",
            "  plane/NN\n",
            "  cold/NN\n",
            "  air/NN\n",
            "  crept/VBD\n",
            "  corrugated/VBN\n",
            "  ramp/NN\n",
            "  led/VBD\n",
            "  airport/JJ\n",
            "  terminal/JJ\n",
            "  people/NNS\n",
            "  inside/IN\n",
            "  airport/NN\n",
            "  wearing/VBG\n",
            "  big/JJ\n",
            "  coats/NNS\n",
            "  hats/VBP\n",
            "  seen/VBN\n",
            "  television/NN\n",
            "  never/RB\n",
            "  close/RB\n",
            "  felt/VBD\n",
            "  little/JJ\n",
            "  dizzy/NN\n",
            "  needed/VBN\n",
            "  sit/NN\n",
            "  cell/NN\n",
            "  phone/NN\n",
            "  rang/NN\n",
            "  (PERSON Aunt/NNP Sophia/NNP)\n",
            "  waiting/VBG\n",
            "  outside/JJ\n",
            "  passenger/NN\n",
            "  pick-up/JJ\n",
            "  area/NN\n",
            "  walked/VBD\n",
            "  quickly/RB\n",
            "  exit/NN\n",
            "  forgetting/VBG\n",
            "  luggage/NN\n",
            "  sliding/VBG\n",
            "  glass/NN\n",
            "  door/NN\n",
            "  opened/VBD\n",
            "  outside/JJ\n",
            "  aunt–a/IN\n",
            "  woman/NN\n",
            "  ’/VBP\n",
            "  seen/VBN\n",
            "  ten/JJ\n",
            "  years–wearing/VBG\n",
            "  parka/NN\n",
            "  waving/VBG\n",
            "  arms/NNS\n",
            "  frantically/RB\n",
            "  direction/NN)\n"
          ]
        }
      ],
      "source": [
        "from nltk import ne_chunk\n",
        "\n",
        "entities = ne_chunk(pos_tags)\n",
        "print(\"Named Entities:\", entities)"
      ]
    },
    {
      "cell_type": "markdown",
      "metadata": {
        "id": "yTs5LY4oNZm0"
      },
      "source": [
        "**7.Web Scraping**"
      ]
    },
    {
      "cell_type": "code",
      "execution_count": null,
      "metadata": {
        "id": "GX_OmiaBN1oL"
      },
      "outputs": [],
      "source": [
        "import requests\n",
        "from bs4 import BeautifulSoup"
      ]
    },
    {
      "cell_type": "code",
      "execution_count": null,
      "metadata": {
        "colab": {
          "base_uri": "https://localhost:8080/"
        },
        "id": "M0RvejJkNYlV",
        "outputId": "1cad9f8a-5882-4200-aa79-33d7c2865edb"
      },
      "outputs": [
        {
          "name": "stdout",
          "output_type": "stream",
          "text": [
            "URLs: ['#main', 'https://www.geeksforgeeks.org/', 'https://www.geeksforgeeks.org/complete-guide-to-arrays-data-structure/?ref=outind', 'https://www.geeksforgeeks.org/introduction-to-matrix-or-grid-data-structure-and-algorithms-tutorial/?ref=outind', 'https://www.geeksforgeeks.org/complete-guide-to-string-data-structure/?ref=outind', 'https://www.geeksforgeeks.org/singly-linked-list-definition-meaning-dsa/?ref=outind', 'https://www.geeksforgeeks.org/doubly-linked-list/?ref=outind', 'https://www.geeksforgeeks.org/circular-linked-list/?ref=outind', 'https://www.geeksforgeeks.org/doubly-circular-linked-list-set-1-introduction-and-insertion/?ref=outind', 'https://www.geeksforgeeks.org/introduction-to-linked-list-data-structure-and-algorithm-tutorial/?ref=outind', 'https://www.geeksforgeeks.org/introduction-to-stack-data-structure-and-algorithm-tutorials/?ref=outind', 'https://www.geeksforgeeks.org/introduction-to-queue-data-structure-and-algorithm-tutorials/?ref=outind', 'https://www.geeksforgeeks.org/generic-treesn-array-trees/?ref=outind', 'https://www.geeksforgeeks.org/introduction-to-binary-tree-data-structure-and-algorithm-tutorials/?ref=outind', 'https://www.geeksforgeeks.org/introduction-to-binary-search-tree-data-structure-and-algorithm-tutorials/?ref=outind', 'https://www.geeksforgeeks.org/introduction-to-avl-tree/?ref=outind', 'https://www.geeksforgeeks.org/introduction-of-b-tree-2/?ref=outind', 'https://www.geeksforgeeks.org/introduction-of-b-tree/?ref=outind', 'https://www.geeksforgeeks.org/introduction-to-red-black-tree/?ref=outind', 'https://www.geeksforgeeks.org/introduction-to-tree-data-structure-and-algorithm-tutorials/?ref=outind', 'https://www.geeksforgeeks.org/introduction-to-heap-data-structure-and-algorithm-tutorials/?ref=outind', 'https://www.geeksforgeeks.org/introduction-to-hashing-data-structure-and-algorithm-tutorials/?ref=outind', 'https://www.geeksforgeeks.org/introduction-to-graphs-data-structure-and-algorithm-tutorials/?ref=outind', 'https://www.geeksforgeeks.org/introduction-to-set-data-structure-and-algorithm-tutorials/?ref=outind', 'https://www.geeksforgeeks.org/introduction-to-map-data-structure-and-algorithm-tutorials/?ref=outind', 'https://www.geeksforgeeks.org/advanced-data-structures/?ref=outind', 'https://www.geeksforgeeks.org/introduction-to-data-structures/?ref=outind', 'https://www.geeksforgeeks.org/design-and-analysis-of-algorithms/?ref=outind', 'https://www.geeksforgeeks.org/analysis-of-algorithms-set-1-asymptotic-analysis/?ref=outind', 'https://www.geeksforgeeks.org/analysis-of-algorithms-set-3asymptotic-notations/?ref=outind', 'https://www.geeksforgeeks.org/analysis-of-algorithms-set-2-asymptotic-analysis/?ref=outind', 'https://www.geeksforgeeks.org/linear-search/?ref=outind', 'https://www.geeksforgeeks.org/binary-search/?ref=outind', 'https://www.geeksforgeeks.org/searching-algorithms/?ref=outind', 'https://www.geeksforgeeks.org/selection-sort/?ref=outind', 'https://www.geeksforgeeks.org/bubble-sort/?ref=outind', 'https://www.geeksforgeeks.org/insertion-sort/?ref=outind', 'https://www.geeksforgeeks.org/merge-sort/?ref=outind', 'https://www.geeksforgeeks.org/quick-sort/?ref=outind', 'https://www.geeksforgeeks.org/heap-sort/?ref=outind', 'https://www.geeksforgeeks.org/counting-sort/?ref=outind', 'https://www.geeksforgeeks.org/radix-sort/?ref=outind', 'https://www.geeksforgeeks.org/bucket-sort-2/?ref=outind', 'https://www.geeksforgeeks.org/introduction-to-sorting-algorithm/?ref=outind', 'https://www.geeksforgeeks.org/introduction-to-greedy-algorithm-data-structures-and-algorithm-tutorials/?ref=outind', 'https://www.geeksforgeeks.org/introduction-to-dynamic-programming-data-structures-and-algorithm-tutorials/?ref=outind', 'https://www.geeksforgeeks.org/introduction-to-graphs-data-structure-and-algorithm-tutorials/?ref=outind', 'https://www.geeksforgeeks.org/introduction-to-pattern-searching-data-structure-and-algorithm-tutorial/?ref=outind', 'https://www.geeksforgeeks.org/introduction-to-recursion-data-structure-and-algorithm-tutorials/?ref=outind', 'https://www.geeksforgeeks.org/introduction-to-backtracking-data-structure-and-algorithm-tutorials/?ref=outind', 'https://www.geeksforgeeks.org/introduction-to-divide-and-conquer-algorithm-data-structure-and-algorithm-tutorials/?ref=outind', 'https://www.geeksforgeeks.org/mathematical-algorithms/?ref=outind', 'https://www.geeksforgeeks.org/geometric-algorithms/?ref=outind', 'https://www.geeksforgeeks.org/introduction-to-bitwise-algorithms-data-structures-and-algorithms-tutorial/?ref=outind', 'https://www.geeksforgeeks.org/randomized-algorithms/?ref=outind', 'https://www.geeksforgeeks.org/introduction-to-branch-and-bound-data-structures-and-algorithms-tutorial/?ref=outind', 'https://www.geeksforgeeks.org/introduction-to-algorithms/?ref=outind', 'https://www.geeksforgeeks.org/learn-data-structures-and-algorithms-dsa-tutorial/?ref=outind', 'https://www.geeksforgeeks.org/competitive-programming-a-complete-guide/?ref=outind', 'https://www.geeksforgeeks.org/facebookmeta-sde-sheet-interview-questions-and-answers/?ref=outind', 'https://www.geeksforgeeks.org/amazon-sde-sheet-interview-questions-and-answers/?ref=outind', 'https://www.geeksforgeeks.org/apple-sde-sheet-interview-questions-and-answers/?ref=outind', 'https://www.geeksforgeeks.org/netflix-sde-sheet-interview-questions-and-answers/?ref=outind', 'https://www.geeksforgeeks.org/google-sde-sheet-interview-questions-and-answers/?ref=outind', 'https://www.geeksforgeeks.org/sde-sheet-a-complete-guide-for-sde-preparation/?ref=outind', 'https://www.geeksforgeeks.org/most-asked-dsa-interview-problems-for-beginners/?ref=outind', 'https://www.geeksforgeeks.org/must-do-coding-questions-for-companies-like-amazon-microsoft-adobe/?ref=outind', 'https://www.geeksforgeeks.org/must-do-coding-questions-for-product-based-companies/?ref=outind', 'https://www.geeksforgeeks.org/must-coding-questions-company-wise/?ref=outind', 'https://www.geeksforgeeks.org/top-100-data-structure-and-algorithms-dsa-interview-questions-topic-wise/?ref=outind', 'https://www.geeksforgeeks.org/puzzles/?ref=outind', 'https://www.geeksforgeeks.org/top-100-puzzles-asked-in-interviews/?ref=outind', 'https://www.geeksforgeeks.org/top-20-puzzles-commonly-asked-during-sde-interviews/?ref=outind', 'https://www.geeksforgeeks.org/taking-input-in-python/?ref=outind', 'https://www.geeksforgeeks.org/python-operators/?ref=outind', 'https://www.geeksforgeeks.org/python-numbers/?ref=outind', 'https://www.geeksforgeeks.org/python-string/?ref=outind', 'https://www.geeksforgeeks.org/python-lists/?ref=outind', 'https://www.geeksforgeeks.org/python-tuples/?ref=outind', 'https://www.geeksforgeeks.org/sets-in-python/?ref=outind', 'https://www.geeksforgeeks.org/python-dictionary/?ref=outind', 'https://www.geeksforgeeks.org/python-if-else/?ref=outind', 'https://www.geeksforgeeks.org/python-for-loops/?ref=outind', 'https://www.geeksforgeeks.org/python-while-loop/?ref=outind', 'https://www.geeksforgeeks.org/python-break-statement/?ref=outind', 'https://www.geeksforgeeks.org/python-continue-statement/?ref=outind', 'https://www.geeksforgeeks.org/python-pass-statement/?ref=outind', 'https://www.geeksforgeeks.org/python-functions/?ref=outind', 'https://www.geeksforgeeks.org/python-oops-concepts/?ref=outind', 'https://www.geeksforgeeks.org/python-data-structures-and-algorithms/?ref=outind', 'https://www.geeksforgeeks.org/python-linked-list/?ref=outind', 'https://www.geeksforgeeks.org/stack-in-python/?ref=outind', 'https://www.geeksforgeeks.org/queue-in-python/?ref=outind', 'https://www.geeksforgeeks.org/binary-tree-data-structure/?ref=outind', 'https://www.geeksforgeeks.org/introduction-to-heap-data-structure-and-algorithm-tutorials/?ref=outind', 'https://www.geeksforgeeks.org/introduction-to-hashing-data-structure-and-algorithm-tutorials/?ref=outind', 'https://www.geeksforgeeks.org/introduction-to-graphs-data-structure-and-algorithm-tutorials/?ref=outind', 'https://www.geeksforgeeks.org/introduction-to-set-data-structure-and-algorithm-tutorials/?ref=outind', 'https://www.geeksforgeeks.org/introduction-to-map-data-structure-and-algorithm-tutorials/?ref=outind', 'https://www.geeksforgeeks.org/advanced-data-structures/?ref=outind', 'https://www.geeksforgeeks.org/sorting-algorithms-in-python/?ref=outind', 'https://www.geeksforgeeks.org/searching-algorithms/?ref=outind', 'https://www.geeksforgeeks.org/python-exception-handling/?ref=outind', 'https://www.geeksforgeeks.org/file-handling-python/?ref=outind', 'https://www.geeksforgeeks.org/python-list-exercise/?ref=outind', 'https://www.geeksforgeeks.org/python-string-exercise/?ref=outind', 'https://www.geeksforgeeks.org/python-tuple-exercise/?ref=outind', 'https://www.geeksforgeeks.org/python-dictionary-exercise/?ref=outind', 'https://www.geeksforgeeks.org/python-set-exercise/?ref=outind', 'https://www.geeksforgeeks.org/python-design-patterns/?ref=outind', 'https://www.geeksforgeeks.org/python-programming-examples/?ref=outind', 'https://www.geeksforgeeks.org/python-exercises-practice-questions-and-solutions/?ref=outind', 'https://www.geeksforgeeks.org/getting-started-with-django/?ref=outind', 'https://www.geeksforgeeks.org/how-to-create-an-app-in-django/?ref=outind', 'https://www.geeksforgeeks.org/views-in-django-python/?ref=outind', 'https://www.geeksforgeeks.org/django-templates/?ref=outind', 'https://www.geeksforgeeks.org/django-url-patterns-python/?ref=outind', 'https://www.geeksforgeeks.org/python-django-admin-interface/?ref=outind', 'https://www.geeksforgeeks.org/django-models/?ref=outind', 'https://www.geeksforgeeks.org/how-to-integrate-mysql-database-with-django/?ref=outind', 'https://www.geeksforgeeks.org/how-to-use-postgresql-database-in-django/?ref=outind', 'https://www.geeksforgeeks.org/connect-django-project-to-mongodb/?ref=outind', 'https://www.geeksforgeeks.org/django-crud-create-retrieve-update-delete-function-based-views/?ref=outind', 'https://www.geeksforgeeks.org/django-forms/?ref=outind', 'https://www.geeksforgeeks.org/django-static-file/?ref=outind', 'https://www.geeksforgeeks.org/top-django-projects-for-beginners/?ref=outind', 'https://www.geeksforgeeks.org/django-interview-questions/?ref=outind', 'https://www.geeksforgeeks.org/django-tutorial/?ref=outind', 'https://www.geeksforgeeks.org/flask-creating-first-simple-application/?ref=outind', 'https://www.geeksforgeeks.org/flask-app-routing/?ref=outind', 'https://www.geeksforgeeks.org/redirecting-to-url-in-flask/?ref=outind', 'https://www.geeksforgeeks.org/flask-rendering-templates/?ref=outind', 'https://www.geeksforgeeks.org/templating-with-jinja2-in-flask/?ref=outind', 'https://www.geeksforgeeks.org/declaring-models-in-flask/?ref=outind', 'https://www.geeksforgeeks.org/connect-flask-to-a-database-with-flask-sqlalchemy/?ref=outind', 'https://www.geeksforgeeks.org/how-to-add-authentication-to-your-app-with-flask-login/?ref=outind', 'https://www.geeksforgeeks.org/create-contact-us-using-wtforms-in-flask/?ref=outind', 'https://www.geeksforgeeks.org/how-to-serve-static-files-in-flask/?ref=outind', 'https://www.geeksforgeeks.org/flask-projects/?ref=ghm', 'https://www.geeksforgeeks.org/flask-interview-questions-and-answers/?ref=outind', 'https://www.geeksforgeeks.org/design-a-webpage-for-online-food-delivery-system-using-html-and-css/?ref=outind', 'https://www.geeksforgeeks.org/design-a-webpage-for-online-food-delivery-system-using-html-and-css/?ref=outind', 'https://www.geeksforgeeks.org/python-todo-webapp-using-django/?ref=outind', 'https://geeksforgeeks.org/building-blog-cms-content-management-system-with-django/?ref=outind', 'https://www.geeksforgeeks.org/how-to-add-pagination-in-django-project/?ref=outind', 'https://www.geeksforgeeks.org/how-to-use-tailwind-css-with-django/?ref=outind', 'https://www.geeksforgeeks.org/how-to-connect-django-with-reactjs/?ref=outind', 'https://www.geeksforgeeks.org/introduction-postman-api-development/?ref=outind', 'https://www.geeksforgeeks.org/introduction-to-github/?ref=outind', 'https://www.geeksforgeeks.org/java/?ref=outind', 'https://www.geeksforgeeks.org/data-types-in-java/?ref=outind', 'https://www.geeksforgeeks.org/variables-in-java/?ref=outind', 'https://www.geeksforgeeks.org/operators-in-java/?ref=outind', 'https://www.geeksforgeeks.org/java-arithmetic-operators-with-examples/?ref=outind', 'https://www.geeksforgeeks.org/java-unary-operator-with-examples/?ref=outind', 'https://www.geeksforgeeks.org/java-assignment-operator-with-examples/?ref=outind', 'https://www.geeksforgeeks.org/java-relational-operators-with-examples/?ref=outind', 'https://www.geeksforgeeks.org/java-logical-operators-with-examples/?ref=outind', 'https://www.geeksforgeeks.org/java-ternary-operator-with-examples/?ref=outind', 'https://www.geeksforgeeks.org/decision-making-javaif-else-switch-break-continue-jump/?ref=outind', 'https://www.geeksforgeeks.org/java-if-statement-with-examples/?ref=outind', 'https://www.geeksforgeeks.org/java-if-else-statement-with-examples/?ref=outind', 'https://www.geeksforgeeks.org/java-if-else-if-ladder-with-examples/?ref=outind', 'https://www.geeksforgeeks.org/continue-statement-in-java/?ref=outind', 'https://www.geeksforgeeks.org/break-statement-in-java/?ref=outind', 'https://www.geeksforgeeks.org/return-keyword-java/?ref=outind', 'https://www.geeksforgeeks.org/java-while-loop-with-examples/?ref=outind', 'https://www.geeksforgeeks.org/java-do-while-loop-with-examples/?ref=outind', 'https://www.geeksforgeeks.org/java-for-loop-with-examples/?ref=outind', 'https://www.geeksforgeeks.org/for-each-loop-in-java/?ref=outind', 'https://www.geeksforgeeks.org/methods-in-java/?ref=outind', 'https://www.geeksforgeeks.org/strings-in-java/?ref=outind', 'https://www.geeksforgeeks.org/arrays-in-java/?ref=outind', 'https://www.geeksforgeeks.org/object-oriented-programming-oops-concept-in-java/?ref=outind', 'https://www.geeksforgeeks.org/classes-objects-java/?ref=outind', 'https://www.geeksforgeeks.org/access-modifiers-java/?ref=outind', 'https://www.geeksforgeeks.org/inheritance-in-java/?ref=outind', 'https://www.geeksforgeeks.org/abstraction-in-java-2/?ref=outind', 'https://www.geeksforgeeks.org/encapsulation-in-java/?ref=outind', 'https://www.geeksforgeeks.org/polymorphism-in-java/?ref=outind', 'https://www.geeksforgeeks.org/interfaces-in-java/?ref=outind', 'https://www.geeksforgeeks.org/packages-in-java/?ref=outind', 'https://www.geeksforgeeks.org/multithreading-in-java/?ref=outind', 'https://www.geeksforgeeks.org/file-handling-in-java/?ref=outind', 'https://www.geeksforgeeks.org/regular-expressions-in-java/?ref=outind', 'https://www.geeksforgeeks.org/collections-in-java-2/?ref=outind', 'https://www.geeksforgeeks.org/collections-class-in-java/?ref=outind', 'https://www.geeksforgeeks.org/list-interface-java-examples/?ref=outind', 'https://www.geeksforgeeks.org/arraylist-in-java/?ref=outind', 'https://www.geeksforgeeks.org/java-util-vector-class-java/?ref=outind', 'https://www.geeksforgeeks.org/stack-class-in-java/?ref=outind', 'https://www.geeksforgeeks.org/linked-list-in-java/?ref=outind', 'https://www.geeksforgeeks.org/queue-interface-java/?ref=outind', 'https://www.geeksforgeeks.org/set-in-java/?ref=outind', 'https://www.geeksforgeeks.org/hashset-in-java/?ref=outind', 'https://www.geeksforgeeks.org/treeset-in-java-with-examples/?ref=outind', 'https://www.geeksforgeeks.org/map-interface-java-examples/?ref=outind', 'https://www.geeksforgeeks.org/java-util-hashmap-in-java-with-examples/?ref=outind', 'https://www.geeksforgeeks.org/hashtable-in-java/?ref=outind', 'https://www.geeksforgeeks.org/iterators-in-java/?ref=outind', 'https://www.geeksforgeeks.org/comparator-interface-java/?ref=outind', 'https://www.geeksforgeeks.org/java-collections-interview-questions/?ref=outind', 'https://www.geeksforgeeks.org/java-8-features/?ref=outind', 'https://www.geeksforgeeks.org/java-programming-examples/?ref=outind', 'https://www.geeksforgeeks.org/java-array-programs/?ref=outind', 'https://www.geeksforgeeks.org/java-string-programs/?ref=outind', 'https://www.geeksforgeeks.org/java-date-time-programs/?ref=outind', 'https://www.geeksforgeeks.org/java-file-handling-programs/?ref=outind', 'https://www.geeksforgeeks.org/java-collection-programs/?ref=outind', 'https://www.geeksforgeeks.org/java-jdbc-programs/?ref=outind', 'https://www.geeksforgeeks.org/java-apache-poi-programs/?ref=outind', 'https://www.geeksforgeeks.org/java-opencv-programs/?ref=outind', 'https://www.geeksforgeeks.org/java-interview-questions/?ref=outind', 'https://www.geeksforgeeks.org/core-java-interview-questions-for-freshers/?ref=outind', 'https://www.geeksforgeeks.org/top-20-java-multithreading-interview-questions-answers/?ref=outind', 'https://www.geeksforgeeks.org/oops-interview-questions/?ref=outind', 'https://www.geeksforgeeks.org/java-exercises/?ref=outind', 'https://www.geeksforgeeks.org/50-java-language-mcqs-with-answers-2/?ref=outind', 'https://www.geeksforgeeks.org/java-multiple-choice-questions/?ref=outind', 'https://www.geeksforgeeks.org/java-projects/?ref=outind', 'https://www.geeksforgeeks.org/spring/?ref=outind', 'https://www.geeksforgeeks.org/spring-boot/?ref=outind', 'https://www.geeksforgeeks.org/spring-boot-interview-questions/?ref=outind', 'https://www.geeksforgeeks.org/spring-mvc/?ref=outind', 'https://www.geeksforgeeks.org/spring-mvc-interview-questions/?ref=outind', 'https://www.geeksforgeeks.org/hibernate-tutorial/?ref=outind', 'https://www.geeksforgeeks.org/hibernate-interview-questions/?ref=outind', 'https://www.geeksforgeeks.org/python-programming-language/?ref=outind', 'https://www.geeksforgeeks.org/java/?ref=outind', 'https://www.geeksforgeeks.org/c-programming-language/?ref=outind', 'https://www.geeksforgeeks.org/c-plus-plus/?ref=outind', 'https://www.geeksforgeeks.org/learn-javascript-js-roadmap-for-beginners/?ref=outind', 'https://www.geeksforgeeks.org/php-tutorials/?ref=outind', 'https://www.geeksforgeeks.org/r-tutorial/?ref=outind', 'https://www.geeksforgeeks.org/csharp-programming-language/?ref=outind', 'https://www.geeksforgeeks.org/sql-tutorial/?ref=outind', 'https://www.geeksforgeeks.org/scala-programming-language/?ref=outind', 'https://www.geeksforgeeks.org/perl-programming-language/?ref=outind', 'https://www.geeksforgeeks.org/golang/?ref=outind', 'https://www.geeksforgeeks.org/kotlin-programming-language/?ref=outind', 'https://www.geeksforgeeks.org/what-is-system-design-learn-system-design/?ref=outind', 'https://www.geeksforgeeks.org/important-key-concepts-and-terminologies-learn-system-design/?ref=outind', 'https://www.geeksforgeeks.org/analysis-of-monolithic-and-distributed-systems-learn-system-design/?ref=outind', 'https://www.geeksforgeeks.org/what-is-scalability-and-how-to-achieve-it-learn-system-design/?ref=outind', 'https://www.geeksforgeeks.org/complete-reference-to-databases-in-designing-systems/?ref=outind', 'https://www.geeksforgeeks.org/what-is-high-level-design-learn-system-design/?ref=outind', 'https://www.geeksforgeeks.org/what-is-low-level-design-or-lld-learn-system-design/?ref=outind', 'https://www.geeksforgeeks.org/communication-protocols-in-system-design/?ref=outind', 'https://www.geeksforgeeks.org/web-server-proxies-and-their-role-in-designing-systems/?ref=outind', 'https://www.geeksforgeeks.org/top-10-system-design-interview-questions-and-answers/?ref=outind', 'https://www.geeksforgeeks.org/system-design-tutorial/?ref=outind', 'https://www.geeksforgeeks.org/design-patterns-set-1-introduction/?ref=outind', 'https://www.geeksforgeeks.org/observer-pattern-set-1-introduction/?ref=outind', 'https://www.geeksforgeeks.org/singleton-design-pattern/?ref=outind', 'https://www.geeksforgeeks.org/decorator-pattern/?ref=outind', 'https://www.geeksforgeeks.org/strategy-pattern-set-1/?ref=outind', 'https://www.geeksforgeeks.org/adapter-pattern/?ref=outind', 'https://www.geeksforgeeks.org/command-pattern/?ref=outind', 'https://www.geeksforgeeks.org/iterator-pattern/?ref=outind', 'https://www.geeksforgeeks.org/prototype-design-pattern/?ref=outind', 'https://www.geeksforgeeks.org/software-design-patterns/?ref=outind', 'https://www.geeksforgeeks.org/complete-roadmap-to-learn-system-design/?ref=outind', 'https://www.geeksforgeeks.org/top-10-system-design-interview-questions-and-answers/?ref=outind', 'https://www.geeksforgeeks.org/company-preparation/?ref=outind', 'https://www.geeksforgeeks.org/interview-preparation-for-software-developer/?ref=outind', 'https://practice.geeksforgeeks.org/company-tags/?ref=outind', 'https://www.geeksforgeeks.org/company-interview-corner/?ref=outind', 'https://www.geeksforgeeks.org/experienced-interview-experiences-company-wise/?ref=outind', 'https://www.geeksforgeeks.org/internship-interview-experiences-company-wise/?ref=outind', 'https://www.geeksforgeeks.org/competitive-programming-a-complete-guide/?ref=outind', 'https://www.geeksforgeeks.org/quiz-corner-gq/?ref=outind', 'https://www.geeksforgeeks.org/aptitude-questions-and-answers/?ref=outind', 'https://www.geeksforgeeks.org/engineering-mathematics-tutorials/?ref=outind', 'https://www.geeksforgeeks.org/operating-systems/?ref=outind', 'https://www.geeksforgeeks.org/dbms/?ref=outind', 'https://www.geeksforgeeks.org/computer-network-tutorials/?ref=outind', 'https://www.geeksforgeeks.org/computer-organization-and-architecture-tutorials/?ref=outind', 'https://www.geeksforgeeks.org/theory-of-computation-automata-tutorials/?ref=outind', 'https://www.geeksforgeeks.org/compiler-design-tutorials/?ref=outind', 'https://www.geeksforgeeks.org/digital-electronics-logic-design-tutorials/#blg/?ref=outind', 'https://www.geeksforgeeks.org/software-engineering/?ref=outind', 'https://www.geeksforgeeks.org/git-tutorial/?ref=outind', 'https://www.geeksforgeeks.org/aws-tutorial/?ref=outind', 'https://www.geeksforgeeks.org/docker-tutorial/?ref=outind', 'https://www.geeksforgeeks.org/kubernetes-tutorial/?ref=outind', 'https://www.geeksforgeeks.org/microsoft-azure/?ref=outind', 'https://www.geeksforgeeks.org/google-cloud-platform-tutorial/?ref=outind', 'https://www.geeksforgeeks.org/linux-tutorial/?ref=outind', 'https://www.geeksforgeeks.org/linux-commands/?ref=outind', 'https://www.geeksforgeeks.org/linux-commands-cheat-sheet/?ref=outind', 'https://www.geeksforgeeks.org/basic-linux-commands/?ref=outind', 'https://www.geeksforgeeks.org/file-management-in-linux/?ref=outind', 'https://www.geeksforgeeks.org/chmod-command-linux/?ref=outind', 'https://www.geeksforgeeks.org/chown-command-in-linux-with-examples/?ref=outind', 'https://www.geeksforgeeks.org/chgrp-command-in-linux-with-examples/?ref=outind', 'https://www.geeksforgeeks.org/umask-command-in-linux-with-examples/?ref=outind', 'https://www.geeksforgeeks.org/beginners-guide-to-linux-system-administration/?ref=outind', 'https://www.geeksforgeeks.org/linux-file-system/?ref=outind', 'https://www.geeksforgeeks.org/introduction-linux-shell-shell-scripting/?ref=outind', 'https://www.geeksforgeeks.org/network-configuration-trouble-shooting-commands-linux/?ref=outind', 'https://www.geeksforgeeks.org/linux-firewall/?ref=outind', 'https://www.geeksforgeeks.org/linux-interview-questions/?ref=outind', 'https://www.geeksforgeeks.org/software-testing-tutorial/?ref=outind', 'https://www.geeksforgeeks.org/software-testing-basics/?ref=outind', 'https://www.geeksforgeeks.org/software-engineering-seven-principles-of-software-testing/?ref=outind', 'https://www.geeksforgeeks.org/types-software-testing/?ref=outind', 'https://www.geeksforgeeks.org/levels-of-software-testing/?ref=outind', 'https://www.geeksforgeeks.org/automation-testing-software-testing/?ref=outind', 'https://www.geeksforgeeks.org/software-testing-manual-testing/?ref=outind', 'https://www.geeksforgeeks.org/software-testing-tools/?ref=outind', 'https://www.geeksforgeeks.org/software-testing-defect-testing-tools/?ref=outind', 'https://www.geeksforgeeks.org/software-testing-cross-browser-testing-tools/?ref=outind', 'https://www.geeksforgeeks.org/software-testing-integration-testing-tool/?ref=outind', 'https://www.geeksforgeeks.org/software-testing-unit-testing-tools/?ref=outind', 'https://www.geeksforgeeks.org/software-testing-mobile-testing-tools/?ref=outind', 'https://www.geeksforgeeks.org/software-testing-gui-testing-tool/?ref=outind', 'https://www.geeksforgeeks.org/software-testing-security-testing-tools/?ref=outind', 'https://www.geeksforgeeks.org/penetration-testing-software-engineering/?ref=outind', 'https://www.geeksforgeeks.org/selenium-python-tutorial/?ref=outind', 'https://www.geeksforgeeks.org/selenium-basics-components-features-uses-and-limitations/?ref=outind', 'https://www.geeksforgeeks.org/selenium-python-introduction-and-installation/?ref=outind', 'https://www.geeksforgeeks.org/jira-tutorial/?ref=outind', 'https://www.geeksforgeeks.org/jira-installation/?ref=outind', 'https://www.geeksforgeeks.org/jira-login/?ref=outind', 'https://www.geeksforgeeks.org/jira-dashboard/?ref=outind', 'https://www.geeksforgeeks.org/software-engineering/?ref=outind', 'https://www.geeksforgeeks.org/software-development-life-cycle-sdlc/?ref=outind', 'https://www.geeksforgeeks.org/software-engineering-software-characteristics/?ref=outind', 'https://www.geeksforgeeks.org/software-engineering-software-quality/?ref=outind', 'https://www.geeksforgeeks.org/waterfall-model/?ref=outind', 'https://www.geeksforgeeks.org/software-engineering-iterative-waterfall-model/?ref=outind', 'https://www.geeksforgeeks.org/software-engineering-spiral-model/?ref=outind', 'https://www.geeksforgeeks.org/software-engineering-prototyping-model/?ref=outind', 'https://www.geeksforgeeks.org/software-engineering-incremental-process-model/?ref=outind', 'https://www.geeksforgeeks.org/software-testing-interview-questions/?ref=outind', 'https://www.geeksforgeeks.org/automation-testing-interview-questions/?ref=outind', 'https://www.geeksforgeeks.org/manual-testing-interview-questions/?ref=outind', 'https://www.geeksforgeeks.org/top-50-software-engineering-interview-questions-and-answers/?ref=outind', 'https://www.geeksforgeeks.org/top-50-penetration-testing-interview-questions-and-answers/?ref=outind', 'https://www.geeksforgeeks.org/api-testing-interview-questions/?ref=outind', 'https://www.geeksforgeeks.org/postman-tutorial/?ref=outind', 'https://www.geeksforgeeks.org/introduction-postman-api-development/?ref=outind', 'https://www.geeksforgeeks.org/how-to-download-and-install-postman-on-windows/?ref=outind', 'https://www.geeksforgeeks.org/basics-of-api-testing-using-postman/?ref=outind', 'https://www.geeksforgeeks.org/how-to-generate-html-report-for-postman-collection-using-newman/?ref=outind', 'https://www.geeksforgeeks.org/dbms/?ref=outind', 'https://www.geeksforgeeks.org/sql-tutorial/?ref=outind', 'https://www.geeksforgeeks.org/postgresql-tutorial/?ref=outind', 'https://www.geeksforgeeks.org/mongodb-tutorial/?ref=outind', 'https://www.geeksforgeeks.org/sql-interview-questions/?ref=outind', 'https://www.geeksforgeeks.org/mysql-interview-questions/?ref=outind', 'https://www.geeksforgeeks.org/pl-sql-interview-questions/?ref=outind', 'https://www.geeksforgeeks.org/android-tutorial/?ref=outind', 'https://www.geeksforgeeks.org/android-studio-tutorial/?ref=outind', 'https://www.geeksforgeeks.org/kotlin-android-tutorial/?ref=outind', 'https://www.geeksforgeeks.org/android-projects-from-basic-to-advanced-level/?ref=outind', 'https://www.geeksforgeeks.org/top-50-android-interview-questions-answers-sde-i-to-sde-iii/?ref=outind', 'https://www.geeksforgeeks.org/6-weeks-of-android-app-development-free-project-based-learning/?ref=outind', 'https://www.geeksforgeeks.org/excel-tutorial/?ref=outind', 'https://www.geeksforgeeks.org/introduction-to-ms-excel/?ref=outind', 'https://www.geeksforgeeks.org/data-analysis-in-excel/?ref=outind', 'https://www.geeksforgeeks.org/basic-excel-formulas-and-functions/?ref=outind', 'https://www.geeksforgeeks.org/instant-data-analysis-in-advanced-excel/?ref=outind', 'https://www.geeksforgeeks.org/workbooks-in-microsoft-excel/?ref=outind', 'https://www.geeksforgeeks.org/statistical-functions-in-excel-with-examples/?ref=outind', 'https://www.geeksforgeeks.org/data-visualization-in-excel/?ref=outind', 'https://www.geeksforgeeks.org/pivot-tables-in-excel/?ref=outind', 'https://www.geeksforgeeks.org/working-with-excel-spreadsheets-in-python/?ref=outind', 'https://www.geeksforgeeks.org/basic-excel-shortcuts/?ref=outind', 'https://www.geeksforgeeks.org/number-system-and-arithmetic/?ref=outind', 'https://www.geeksforgeeks.org/algebra/?ref=outind', 'https://www.geeksforgeeks.org/linear-algebra/?ref=outind', 'https://www.geeksforgeeks.org/trigonometry/?ref=outind', 'https://www.geeksforgeeks.org/set-theory/?ref=outind', 'https://www.geeksforgeeks.org/statistics/?ref=outind', 'https://www.geeksforgeeks.org/probability-in-maths/?ref=outind', 'https://www.geeksforgeeks.org/geometry/?ref=outind', 'https://www.geeksforgeeks.org/mensuration/?ref=outind', 'https://www.geeksforgeeks.org/logarithms/?ref=outind', 'https://www.geeksforgeeks.org/calculus/?ref=outind', 'https://www.geeksforgeeks.org/business-studies/?ref=outind', 'https://www.geeksforgeeks.org/accountancy/?ref=outind', 'https://www.geeksforgeeks.org/microeconomics/?ref=outind', 'https://www.geeksforgeeks.org/statistics-for-economics/?ref=outind', 'https://www.geeksforgeeks.org/macroeconomics/?ref=outind', 'https://www.geeksforgeeks.org/human-resource-management-hrm/?ref=outind', 'https://www.geeksforgeeks.org/management/?ref=outind', 'https://www.geeksforgeeks.org/income-tax/?ref=outind', 'https://www.geeksforgeeks.org/finance/?ref=outind', 'https://www.geeksforgeeks.org/commerce/?ref=outind', 'https://www.geeksforgeeks.org/what-is-seo-or-search-engine-optimization/?ref=outind', 'https://www.geeksforgeeks.org/search-engine-optimization-seo-basics/?ref=outind', 'https://www.geeksforgeeks.org/types-of-seo/?ref=outind', 'https://www.geeksforgeeks.org/what-is-keyword-optimization-in-seo/?ref=outind', 'https://www.geeksforgeeks.org/backlinks-in-seo/?ref=outind', 'https://www.geeksforgeeks.org/tag/seo-blogs/?ref=outind', 'https://www.geeksforgeeks.org/mobile-search-engine-optimization-seo/?ref=outind', 'https://www.geeksforgeeks.org/seo-search-engine-optimization/?ref=outind', 'https://www.geeksforgeeks.org/aptitude-questions-and-answers/?ref=outind', 'https://www.geeksforgeeks.org/quantitative-aptitude/?ref=outind', 'https://www.geeksforgeeks.org/logical-reasoning/?ref=outind', 'https://www.geeksforgeeks.org/verbal-ability/?ref=outind', 'https://www.geeksforgeeks.org/python-programming-language/?ref=outind', 'https://www.geeksforgeeks.org/r-tutorial/?ref=outind', 'https://www.geeksforgeeks.org/machine-learning/?ref=outind', 'https://www.geeksforgeeks.org/data-science-tutorial/?ref=outind', 'https://www.geeksforgeeks.org/r-programming-for-data-science/?ref=outind', 'https://www.geeksforgeeks.org/pandas-tutorial/?ref=outind', 'https://www.geeksforgeeks.org/numpy-tutorial/?ref=outind', 'https://www.geeksforgeeks.org/python-data-visualization-tutorial/?ref=outind', 'https://www.geeksforgeeks.org/data-visualization-in-r/?ref=outind', 'https://www.geeksforgeeks.org/data-analysis-with-python/?ref=outind', 'https://www.geeksforgeeks.org/data-analysis-using-r/?ref=outind', 'https://www.geeksforgeeks.org/deep-learning-tutorial/?ref=outind', 'https://www.geeksforgeeks.org/natural-language-processing-nlp-tutorial/?ref=outind', 'https://www.geeksforgeeks.org/html-tutorials/?ref=outind', 'https://www.geeksforgeeks.org/css-tutorials/?ref=outind', 'https://www.geeksforgeeks.org/javascript/?ref=outind', 'https://www.geeksforgeeks.org/php-tutorial/?ref=outind', 'https://www.geeksforgeeks.org/reactjs-tutorials/?ref=outind', 'https://www.geeksforgeeks.org/nodejs/?ref=outind', 'https://www.geeksforgeeks.org/introduction-to-angularjs/?ref=outind', 'https://www.geeksforgeeks.org/bootstrap/?ref=outind', 'https://www.geeksforgeeks.org/getting-started-with-django/?ref=outind', 'https://www.geeksforgeeks.org/how-to-create-an-app-in-django/?ref=outind', 'https://www.geeksforgeeks.org/views-in-django-python/?ref=outind', 'https://www.geeksforgeeks.org/django-templates/?ref=outind', 'https://www.geeksforgeeks.org/django-url-patterns-python/?ref=outind', 'https://www.geeksforgeeks.org/python-django-admin-interface/?ref=outind', 'https://www.geeksforgeeks.org/django-models/?ref=outind', 'https://www.geeksforgeeks.org/how-to-integrate-mysql-database-with-django/?ref=outind', 'https://www.geeksforgeeks.org/django-crud-create-retrieve-update-delete-function-based-views/?ref=outind', 'https://www.geeksforgeeks.org/django-forms/?ref=outind', 'https://www.geeksforgeeks.org/django-static-file/?ref=outind', 'https://www.geeksforgeeks.org/top-django-projects-for-beginners/?ref=outind', 'https://www.geeksforgeeks.org/django-tutorial/?ref=outind', 'https://www.geeksforgeeks.org/flask-creating-first-simple-application/?ref=outind', 'https://www.geeksforgeeks.org/flask-app-routing/?ref=outind', 'https://www.geeksforgeeks.org/redirecting-to-url-in-flask/?ref=outind', 'https://www.geeksforgeeks.org/flask-rendering-templates/?ref=outind', 'https://www.geeksforgeeks.org/templating-with-jinja2-in-flask/?ref=outind', 'https://www.geeksforgeeks.org/declaring-models-in-flask/?ref=outind', 'https://www.geeksforgeeks.org/connect-flask-to-a-database-with-flask-sqlalchemy/?ref=outind', 'https://www.geeksforgeeks.org/how-to-add-authentication-to-your-app-with-flask-login/?ref=outind', 'https://www.geeksforgeeks.org/create-contact-us-using-wtforms-in-flask/?ref=outind', 'https://www.geeksforgeeks.org/how-to-serve-static-files-in-flask/?ref=outind', 'https://www.geeksforgeeks.org/flask-projects/?ref=outind', 'https://www.geeksforgeeks.org/flask-interview-questions-and-answers/?ref=outind', 'https://www.geeksforgeeks.org/design-a-webpage-for-online-food-delivery-system-using-html-and-css/?ref=outind', 'https://www.geeksforgeeks.org/design-a-webpage-for-online-food-delivery-system-using-html-and-css/?ref=outind', 'https://www.geeksforgeeks.org/python-todo-webapp-using-django/?ref=outind', 'https://geeksforgeeks.org/building-blog-cms-content-management-system-with-django/?ref=outind', 'https://www.geeksforgeeks.org/how-to-add-pagination-in-django-project/?ref=outind', 'https://www.geeksforgeeks.org/how-to-use-tailwind-css-with-django/?ref=outind', 'https://www.geeksforgeeks.org/how-to-connect-django-with-reactjs/?ref=outind', 'https://www.geeksforgeeks.org/introduction-postman-api-development/?ref=outind', 'https://www.geeksforgeeks.org/introduction-to-github/?ref=outind', 'https://www.geeksforgeeks.org/json/?ref=outind', 'https://www.geeksforgeeks.org/typescript/?ref=outind', 'https://www.geeksforgeeks.org/wordpress-tutorial/?ref=outind', 'https://www.geeksforgeeks.org/web-design/?ref=outind', 'https://www.geeksforgeeks.org/google-chrome-browser/?ref=outind', 'https://www.geeksforgeeks.org/mozilla-firefox-browser/?ref=outind', 'https://www.geeksforgeeks.org/apple-safari-browser/?ref=outind', 'https://www.geeksforgeeks.org/microsoft-edge-browser/?ref=outind', 'https://www.geeksforgeeks.org/tor-browser/?ref=outind', 'https://www.geeksforgeeks.org/html-cheat-sheet-a-basic-guide-to-html/?ref=outind', 'https://www.geeksforgeeks.org/css-cheat-sheet-a-basic-guide-to-css/?ref=outind', 'https://www.geeksforgeeks.org/javascript-cheat-sheet-a-basic-guide-to-javascript/?ref=outind', 'https://www.geeksforgeeks.org/react-cheat-sheet/?ref=outind', 'https://www.geeksforgeeks.org/angular-cheat-sheet-a-basic-guide-to-angular/?ref=outind', 'https://www.geeksforgeeks.org/jquery-cheat-sheet-a-basic-guide-to-jquery/?ref=outind', 'https://www.geeksforgeeks.org/bootstrap-cheatsheet-a-basic-guide-to-bootstrap/?ref=outind', 'https://www.geeksforgeeks.org/top-javascript-projects/?ref=outind', 'https://www.geeksforgeeks.org/web-development/?ref=outind', 'https://www.geeksforgeeks.org/web-browser-a-complete-overview/?ref=outind', 'https://www.geeksforgeeks.org/?ref=ghm', 'https://www.geeksforgeeks.org/videos/watchlist/?ref=ghm', 'https://practice.geeksforgeeks.org/courses?utm_source=geeksforgeeks&utm_medium=main_header&utm_campaign=courses', 'https://www.geeksforgeeks.org/learn-data-structures-and-algorithms-dsa-tutorial/?ref=ghm', 'https://www.geeksforgeeks.org/data-structures/?ref=ghm', 'https://www.geeksforgeeks.org/fundamentals-of-algorithms/?ref=ghm', 'https://www.geeksforgeeks.org/top-100-data-structure-and-algorithms-dsa-interview-questions-topic-wise/?ref=ghm', 'https://www.geeksforgeeks.org/dsa-roadmap-for-beginner-to-advanced-by-sandeep-jain/?ref=ghm', 'https://www.geeksforgeeks.org/python-programming-language/?ref=ghm', 'https://www.geeksforgeeks.org/data-science-tutorial/?ref=ghm', 'https://www.geeksforgeeks.org/machine-learning/?ref=ghm', 'https://www.geeksforgeeks.org/deep-learning-tutorial/?ref=ghm', 'https://www.geeksforgeeks.org/natural-language-processing-nlp-tutorial/?ref=ghm', 'https://www.geeksforgeeks.org/computer-vision/?ref=ghm', 'https://www.geeksforgeeks.org/html/?ref=ghm', 'https://www.geeksforgeeks.org/css/?ref=ghm', 'https://www.geeksforgeeks.org/javascript/?ref=ghm', 'https://www.geeksforgeeks.org/reactjs-tutorials/?ref=ghm', 'https://www.geeksforgeeks.org/nodejs/?ref=ghm', 'https://www.geeksforgeeks.org/c-programming-language/?ref=ghm', 'https://www.geeksforgeeks.org/c-plus-plus/?ref=ghm', 'https://www.geeksforgeeks.org/java/?ref=ghm', 'https://www.geeksforgeeks.org/r-tutorial/?ref=ghm', 'https://www.geeksforgeeks.org/golang/?ref=ghm', 'https://www.geeksforgeeks.org/company-interview-corner/?ref=ghm', 'https://www.geeksforgeeks.org/experienced-interview-experiences-company-wise/?ref=ghm', 'https://www.geeksforgeeks.org/internship-interview-experiences-company-wise/?ref=ghm', 'https://www.geeksforgeeks.org/explore?ref=ghm&page=1&sortBy=submissions', 'https://www.geeksforgeeks.org/competitive-programming-a-complete-guide/?ref=ghm', 'https://www.geeksforgeeks.org/operating-systems/?ref=ghm', 'https://www.geeksforgeeks.org/dbms/?ref=ghm', 'https://www.geeksforgeeks.org/computer-network-tutorials/?ref=ghm', 'https://www.geeksforgeeks.org/software-engineering/?ref=ghm', 'https://www.geeksforgeeks.org/software-testing-tutorial/?ref=ghm', 'https://www.geeksforgeeks.org/jobs/?ref=ghm', 'https://practice.geeksforgeeks.org/events/rec/job-a-thon?itm_source=geeksforgeeks&itm_medium=main_header&itm_campaign=jobs', 'https://www.geeksforgeeks.org/hire-with-us/dashboard', 'https://www.geeksforgeeks.org/explore/?ref=ghm&page=1&sortBy=submissions', 'https://www.geeksforgeeks.org/problem-of-the-day?ref=ghm', 'https://www.geeksforgeeks.org/explore/?ref=ghm&page=1&curated[]=1&sortBy=submissions&curated_names[]=SDE Sheet', \"https://www.geeksforgeeks.org/explore/?ref=ghm&page=1&sprint=ca8ae412173dbd8346c26a0295d098fd&sortBy=submissions&sprint_name=Beginner's DSA Sheet\", 'https://www.geeksforgeeks.org/explore/?ref=ghm&page=1&sprint=94ade6723438d94ecf0c00c3937dad55&sortBy=submissions&sprint_name=Love Babbar Sheet', 'https://www.geeksforgeeks.org/explore/?ref=ghm&page=1&sprint=50746f92a895c22a50504ac0c1fb9c84&sortBy=submissions&sprint_name=Top 50 Array Problems', 'https://www.geeksforgeeks.org/explore/?ref=ghm&page=1&sprint=57184072610b884e5df3584cc534115d&sortBy=submissions&sprint_name=Top 50 String Problems', 'https://www.geeksforgeeks.org/explore/?ref=ghm&page=1&sprint=93d672753b74440c7427214c8ebf866d&sortBy=submissions&sprint_name=Top 50 DP Problems', 'https://www.geeksforgeeks.org/explore/?ref=ghm&page=1&sprint=405e9db0f353691ad3b2d546b19145e9&sortBy=submissions&sprint_name=Top 50 Graph Problems', 'https://www.geeksforgeeks.org/explore/?ref=ghm&page=1&sprint=5f24de84b65bf7c4f4399c8111e26b81&sortBy=submissions&sprint_name=Top 50 Tree Problems', 'https://practice.geeksforgeeks.org/hackathon/world-cup-wizard?itm_source=geeksforgeeks&itm_medium=main_header&itm_campaign=hackathon', 'https://practice.geeksforgeeks.org/events/rec/interview-series?itm_source=geeksforgeeks&itm_medium=main_header&itm_campaign=contests', 'https://practice.geeksforgeeks.org/events/rec/job-a-thon?itm_source=geeksforgeeks&itm_medium=main_header&itm_campaign=contests', 'https://practice.geeksforgeeks.org/events/rec/step-up-coding-school?itm_source=geeksforgeeks&itm_medium=main_header&itm_campaign=contests', 'https://practice.geeksforgeeks.org/events?itm_source=geeksforgeeks&itm_medium=main_header&itm_campaign=contests', 'https://www.geeksforgeeks.org/category/guestblogs/?ref=ghm', 'https://www.geeksforgeeks.org/puzzles/?ref=ghm', 'https://www.geeksforgeeks.org/geeks-classes-geeksforgeeks/?ref=ghm', 'https://www.geeksforgeeks.org/courses?utm_source=geeksforgeeks&utm_medium=gfg_subheader&utm_campaign=three90', 'https://www.geeksforgeeks.org/trending/', 'https://www.geeksforgeeks.org/data-structures/', 'https://www.geeksforgeeks.org/fundamentals-of-algorithms/', 'https://www.geeksforgeeks.org/system-design-tutorial/', 'https://www.geeksforgeeks.org/courses/category/programming-languages?courseFeeType=paid&utm_source=geeksforgeeks&utm_medium=sub_header&utm_campaign=courses', 'https://www.geeksforgeeks.org/courses/data-science-live?itm_source=geeksforgeeks&itm_medium=gfg_submenu&itm_campaign=DS_Submenu', 'https://practice.geeksforgeeks.org/explore?page=1&sortBy=submissions', 'https://www.geeksforgeeks.org/python-programming-language/', 'https://www.geeksforgeeks.org/machine-learning/', 'https://www.geeksforgeeks.org/data-science-tutorial/', 'https://www.geeksforgeeks.org/django-tutorial/', 'https://www.geeksforgeeks.org/devops-tutorial/', 'https://www.geeksforgeeks.org/javascript/', 'https://www.geeksforgeeks.org/java/', 'https://www.geeksforgeeks.org/c-programming-language/', 'https://www.geeksforgeeks.org/c-plus-plus/', 'https://www.geeksforgeeks.org/learn-reactjs/', 'https://www.geeksforgeeks.org/nodejs/', 'https://www.geeksforgeeks.org/web-development/', 'https://www.geeksforgeeks.org/web-design/', 'https://www.geeksforgeeks.org/web-browser-a-complete-overview/', 'https://www.geeksforgeeks.org/courses/competitive-programming-live?itm_source=geeksforgeeks&itm_medium=gfg_submenu&itm_campaign=DS_Submenu', 'https://www.geeksforgeeks.org/aptitude-questions-and-answers/', 'https://www.geeksforgeeks.org/puzzles/', 'https://www.geeksforgeeks.org/computer-science-projects/', 'https://www.geeksforgeeks.org/learn-data-structures-and-algorithms-dsa-tutorial/', 'https://www.geeksforgeeks.org/software-design-patterns/', 'https://www.geeksforgeeks.org/software-development/', 'https://www.geeksforgeeks.org/seo-search-engine-optimization/', 'https://www.geeksforgeeks.org/product-management/', 'https://www.geeksforgeeks.org/sap-systems-applications-and-products/', 'https://www.geeksforgeeks.org/programming-tutorial/', 'https://www.geeksforgeeks.org/', 'https://www.facebook.com/geeksforgeeks.org/', 'https://www.instagram.com/geeks_for_geeks/', 'https://in.linkedin.com/company/geeksforgeeks', 'https://twitter.com/geeksforgeeks', 'https://www.youtube.com/geeksforgeeksvideos', 'https://geeksforgeeksapp.page.link/gfg-app', 'https://geeksforgeeksapp.page.link/gfg-app', 'https://www.geeksforgeeks.org/about/?ref=footer', 'https://www.geeksforgeeks.org/legal/?ref=footer', 'https://geeksforgeeks.zohorecruit.in/careers', 'https://www.geeksforgeeks.org/press-release/?ref=footer', 'https://www.geeksforgeeks.org/about/contact-us/?ref=footer', 'https://www.geeksforgeeks.org/advertise-with-us/?ref=footer', 'https://www.geeksforgeeks.org/gfg-corporate-solution/?ref=footer', 'https://www.geeksforgeeks.org/campus-training-program/?ref=footer', 'https://script.geeksforgeeks.org/apply/?ref=footer', 'https://practice.geeksforgeeks.org/events/rec/job-a-thon/?ref=footer', 'https://practice.geeksforgeeks.org/events/rec/gfg-hackathon/?ref=footer', 'https://practice.geeksforgeeks.org/events/rec/gfg-weekly-coding-contest?utm_source=geeksforgeeks&utm_medium=footer&utm_campaign=gfgweekly/?ref=footer', 'https://www.geeksforgeeks.org/courses/category/all?courseType=offline&courseFeeType=all/?ref=footer', 'https://www.geeksforgeeks.org/courses/dsa-self-paced?utm_source=geeksforgeeks&utm_medium=footer&utm_campaign=course/?ref=footer', 'https://www.geeksforgeeks.org/courses/mastering-system-design-low-level-to-high-level-solutions?utm_source=geeksforgeeks&utm_medium=footer&utm_campaign=course/?ref=footer', 'https://www.geeksforgeeks.org/courses/competitive-programming-cp?utm_source=geeksforgeeks&utm_medium=footer&utm_campaign=course', 'https://www.geeksforgeeks.org/videos/?ref=footer', 'https://www.geeksforgeeks.org/community/?ref=footer', 'https://www.geeksforgeeks.org/introduction-to-programming-languages/?ref=footer', 'https://www.geeksforgeeks.org/python-programming-language/?ref=footer', 'https://www.geeksforgeeks.org/java/?ref=footer', 'https://www.geeksforgeeks.org/c-plus-plus/?ref=footer', 'https://www.geeksforgeeks.org/php-tutorials/?ref=footer', 'https://www.geeksforgeeks.org/golang/?ref=footer', 'https://www.geeksforgeeks.org/sql-tutorial/?ref=footer', 'https://www.geeksforgeeks.org/r-tutorial/?ref=footer', 'https://www.geeksforgeeks.org/android-tutorial/?ref=footer', 'https://www.geeksforgeeks.org/geeksforgeeks-online-tutorials-free/?ref=footer', 'https://www.geeksforgeeks.org/learn-data-structures-and-algorithms-dsa-tutorial/?ref=footer', 'https://www.geeksforgeeks.org/data-structures/?ref=footer', 'https://www.geeksforgeeks.org/fundamentals-of-algorithms/?ref=footer', 'https://www.geeksforgeeks.org/complete-guide-to-dsa-for-beginners/?ref=footer', 'https://www.geeksforgeeks.org/basic-coding-problems-in-dsa-for-beginners/?ref=footer', 'https://www.geeksforgeeks.org/complete-roadmap-to-learn-dsa-from-scratch/?ref=footer', 'https://www.geeksforgeeks.org/top-100-data-structure-and-algorithms-dsa-interview-questions-topic-wise/?ref=footer', 'https://www.geeksforgeeks.org/dsa-roadmap-for-beginner-to-advanced-by-sandeep-jain/?ref=footer', 'https://www.geeksforgeeks.org/geeksforgeeks-master-sheet-list-of-all-cheat-sheets/?ref=footer', 'https://www.geeksforgeeks.org/data-science-tutorial/?ref=footer', 'https://www.geeksforgeeks.org/data-science-for-beginners/?ref=footer', 'https://www.geeksforgeeks.org/machine-learning/?ref=footer', 'https://www.geeksforgeeks.org/machine-learning-mathematics/?ref=footer', 'https://www.geeksforgeeks.org/python-data-visualization-tutorial/?ref=footer', 'https://www.geeksforgeeks.org/pandas-tutorial/?ref=footer', 'https://www.geeksforgeeks.org/numpy-tutorial/?ref=footer', 'https://www.geeksforgeeks.org/natural-language-processing-nlp-tutorial/?ref=footer', 'https://www.geeksforgeeks.org/deep-learning-tutorial/?ref=footer', 'https://www.geeksforgeeks.org/html-css/?ref=footer', 'https://www.geeksforgeeks.org/html/?ref=footer', 'https://www.geeksforgeeks.org/css/?ref=footer', 'https://www.geeksforgeeks.org/html-and-css-template/?ref=footer', 'https://www.geeksforgeeks.org/css-framework/?ref=footer', 'https://www.geeksforgeeks.org/bootstrap/?ref=footer', 'https://www.geeksforgeeks.org/tailwind-css/?ref=footer', 'https://www.geeksforgeeks.org/sass/?ref=footer', 'https://www.geeksforgeeks.org/less/?ref=footer', 'https://www.geeksforgeeks.org/web-design/?ref=footer', 'https://www.geeksforgeeks.org/python-programming-language/?ref=footer', 'https://www.geeksforgeeks.org/python-programming-examples/?ref=footer', 'https://www.geeksforgeeks.org/django-tutorial/?ref=footer', 'https://www.geeksforgeeks.org/python-projects-beginner-to-advanced/?ref=footer', 'https://www.geeksforgeeks.org/python-tkinter-tutorial/?ref=footer', 'https://www.geeksforgeeks.org/python-web-scraping-tutorial/?ref=footer', 'https://www.geeksforgeeks.org/opencv-python-tutorial/?ref=footer', 'https://www.geeksforgeeks.org/python-interview-questions/?ref=footer', 'https://www.geeksforgeeks.org/gate-cs-notes-gq/?ref=footer', 'https://www.geeksforgeeks.org/gate-cs-notes-gq/?ref=footer', 'https://www.geeksforgeeks.org/operating-systems/?ref=footer', 'https://www.geeksforgeeks.org/computer-network-tutorials/?ref=footer', 'https://www.geeksforgeeks.org/dbms/?ref=footer', 'https://www.geeksforgeeks.org/software-engineering/?ref=footer', 'https://www.geeksforgeeks.org/digital-electronics-logic-design-tutorials/?ref=footer', 'https://www.geeksforgeeks.org/engineering-mathematics-tutorials/?ref=footer', 'https://www.geeksforgeeks.org/devops-tutorial/?ref=footer', 'https://www.geeksforgeeks.org/git-tutorial/?ref=footer', 'https://www.geeksforgeeks.org/aws-tutorial/?ref=footer', 'https://www.geeksforgeeks.org/docker-tutorial/?ref=footer', 'https://www.geeksforgeeks.org/kubernetes-tutorial/?ref=footer', 'https://www.geeksforgeeks.org/microsoft-azure/?ref=footer', 'https://www.geeksforgeeks.org/google-cloud-platform-tutorial/?ref=footer', 'https://www.google.com/url?q=https://www.geeksforgeeks.org/devops-roadmap/&sa=D&source=editors&ust=1701416052078352&usg=AOvVaw245Kv2yCnm71WLx-_R42Jz/?ref=footer', 'https://www.geeksforgeeks.org/competitive-programming-a-complete-guide/?ref=footer', 'https://www.geeksforgeeks.org/top-algorithms-and-data-structures-for-competitive-programming/?ref=footer', 'https://www.geeksforgeeks.org/top-50-tree-coding-problems-for-interviews?ref=footer', 'https://www.geeksforgeeks.org/top-50-graph-coding-problems-for-interviews/?ref=footer', 'https://www.geeksforgeeks.org/top-50-array-coding-problems-for-interviews/?ref=footer', 'https://www.geeksforgeeks.org/top-50-string-coding-problems-for-interviews/?ref=footer', 'https://www.geeksforgeeks.org/top-50-dynamic-programming-coding-problems-for-interviews/?ref=footer', 'https://www.geeksforgeeks.org/top-15-websites-for-coding-challenges-and-competitions/?ref=footer', 'https://www.geeksforgeeks.org/system-design-tutorial/?ref=footer', 'https://www.geeksforgeeks.org/what-is-high-level-design-learn-system-design/?ref=footer', 'https://www.geeksforgeeks.org/what-is-low-level-design-or-lld-learn-system-design/?ref=footer', 'https://www.geeksforgeeks.org/unified-modeling-language-uml-introduction/?ref=footer', 'https://www.geeksforgeeks.org/system-design-interview-guide/?ref=footer', 'https://www.geeksforgeeks.org/software-design-patterns/?ref=footer', 'https://www.geeksforgeeks.org/object-oriented-analysis-and-design/?ref=footer', 'https://www.geeksforgeeks.org/system-design-interview-bootcamp-guide/?ref=footer', 'https://www.geeksforgeeks.org/most-commonly-asked-system-design-interview-problems-questions/?ref=footer', 'https://www.geeksforgeeks.org/javascript/?ref=footer', 'https://www.geeksforgeeks.org/javascript-examples/?ref=footer', 'https://www.geeksforgeeks.org/typescript/?ref=footer', 'https://www.geeksforgeeks.org/learn-reactjs/?ref=footer', 'https://www.geeksforgeeks.org/nextjs/?ref=footer', 'https://www.geeksforgeeks.org/angularjs/?ref=footer', 'https://www.geeksforgeeks.org/nodejs/?ref=footer', 'https://www.geeksforgeeks.org/lodash/?ref=footer', 'https://www.geeksforgeeks.org/web-browser-a-complete-overview/?ref=footer', 'https://www.geeksforgeeks.org/ncert-solutions-for-class-12/?ref=footer', 'https://www.geeksforgeeks.org/ncert-solutions-for-class-11/?ref=footer', 'https://www.geeksforgeeks.org/ncert-solutions-for-class-10-maths/?ref=footer', 'https://www.geeksforgeeks.org/ncert-solutions-for-class-9-maths/?ref=footer', 'https://www.geeksforgeeks.org/ncert-solutions-for-class-8/?ref=footer', 'https://www.geeksforgeeks.org/geeksforgeeks-school/?ref=footer', 'https://www.geeksforgeeks.org/maths/?ref=footer', 'https://www.geeksforgeeks.org/physics/?ref=footer', 'https://www.geeksforgeeks.org/chemistry/?ref=footer', 'https://www.geeksforgeeks.org/biology/?ref=footer', 'https://www.geeksforgeeks.org/social-science/?ref=footer', 'https://www.geeksforgeeks.org/english-grammar/?ref=footer', 'https://www.geeksforgeeks.org/commerce/?ref=footer', 'https://www.geeksforgeeks.org/accountancy/?ref=footer', 'https://www.geeksforgeeks.org/business-studies/?ref=footer', 'https://www.geeksforgeeks.org/economics/?ref=footer', 'https://www.geeksforgeeks.org/management/?ref=footer', 'https://www.geeksforgeeks.org/human-resource-management-hrm/?ref=footer', 'https://www.geeksforgeeks.org/finance/?ref=footer', 'https://www.geeksforgeeks.org/income-tax/?ref=footer', 'https://www.geeksforgeeks.org/important-topics-in-polity-for-upsc/?ref=footer', 'https://www.geeksforgeeks.org/important-topics-of-geography-for-upsc/?ref=footer', 'https://www.geeksforgeeks.org/history-notes-for-upsc-exam/?ref=footer', 'https://www.geeksforgeeks.org/important-topics-of-science-and-technology-for-upsc/?ref=footer', 'https://www.geeksforgeeks.org/indian-economy-notes-upsc/?ref=footer', 'https://www.geeksforgeeks.org/important-topics-in-ethics-for-upsc/?ref=footer', 'https://www.geeksforgeeks.org/upsc-previous-year-question-paper-solutions/?ref=footer', 'https://www.geeksforgeeks.org/ssc-cgl-syllabus-2022/?ref=footer', 'https://www.geeksforgeeks.org/sbi-po-syllabus-2023/?ref=footer', 'https://www.geeksforgeeks.org/sbi-clerk-syllabus-2022/?ref=footer', 'https://www.geeksforgeeks.org/syllabus-of-ibps-po-2022/?ref=footer', 'https://www.geeksforgeeks.org/detailed-syllabus-of-ibps-clerk/?ref=footer', 'https://www.geeksforgeeks.org/ssc-cgl-practice-papers/?ref=footer', 'https://www.geeksforgeeks.org/colleges/?ref=footer', 'https://www.geeksforgeeks.org/indian-colleges-admission-and-campus-experiences/?ref=footer', 'https://www.geeksforgeeks.org/list-of-central-universities-in-india/?ref=footer', 'https://www.geeksforgeeks.org/list-of-colleges-in-delhi-university/?ref=footer', 'https://www.geeksforgeeks.org/list-of-iit-colleges-in-india/?ref=footer', 'https://www.geeksforgeeks.org/list-of-nit-colleges-in-india/?ref=footer', 'https://www.geeksforgeeks.org/list-of-iiit-colleges-in-india/?ref=footer', 'https://www.geeksforgeeks.org/companies/?ref=footer', 'https://www.geeksforgeeks.org/list-of-companies-owned-by-meta/?ref=footer', 'https://www.geeksforgeeks.org/list-of-companies-owned-by-alphabet/?ref=footer', 'https://www.geeksforgeeks.org/list-of-companies-owned-by-tata-group/?ref=footer', 'https://www.geeksforgeeks.org/list-of-companies-owned-by-reliance/?ref=footer', 'https://www.geeksforgeeks.org/list-of-fintech-companies/?ref=footer', 'https://www.geeksforgeeks.org/list-of-edtech-companies/?ref=footer', 'https://www.geeksforgeeks.org/technical-interview-preparation/?ref=footer', 'https://www.geeksforgeeks.org/company-wise-recruitment-process/?ref=footer', 'https://www.geeksforgeeks.org/free-resume-templates/?ref=footer', 'https://www.geeksforgeeks.org/aptitude-questions-and-answers/?ref=footer', 'https://www.geeksforgeeks.org/puzzles/?ref=footer', 'https://www.geeksforgeeks.org/company-preparation/?ref=footer', 'https://www.geeksforgeeks.org/jee-main-2024/?ref=footer', 'https://www.geeksforgeeks.org/jee-advanced/?ref=footer', 'https://www.geeksforgeeks.org/gate-cs-notes-gq/?ref=footer', 'https://www.geeksforgeeks.org/neet-2024/?ref=footer', 'https://www.geeksforgeeks.org/ugc-net-exam/?ref=footer', 'https://www.geeksforgeeks.org/software-development/?ref=footer', 'https://www.geeksforgeeks.org/software-testing-tutorial/?ref=footer', 'https://www.geeksforgeeks.org/product-management/?ref=footer', 'https://www.geeksforgeeks.org/sap-systems-applications-and-products/?ref=footer', 'https://www.geeksforgeeks.org/seo-search-engine-optimization/?ref=footer', 'https://www.geeksforgeeks.org/linux-tutorial/?ref=footer', 'https://www.geeksforgeeks.org/excel-tutorial/?ref=footer', 'https://www.geeksforgeeks.org/free-typing-test/?ref=footer', 'https://www.geeksforgeeks.org/online-image-editor/?ref=footer', 'https://www.geeksforgeeks.org/online-code-formatter/?ref=footer', 'https://www.geeksforgeeks.org/online-file-converters/?ref=footer', 'https://www.geeksforgeeks.org/currency-converter/?ref=footer', 'https://www.geeksforgeeks.org/random-number-generator/?ref=footer', 'https://www.geeksforgeeks.org/random-password-generator/', 'https://write.geeksforgeeks.org/?ref=footer', 'https://www.geeksforgeeks.org/how-to-improve-an-article/?ref=footer', 'https://write.geeksforgeeks.org/pick-article/?ref=footer', 'https://www.geeksforgeeks.org/share-your-experiences-on-geeksforgeeks/?ref=footer', 'https://write.geeksforgeeks.org/internship/?ref=footer', 'https://www.geeksforgeeks.org/', 'https://www.geeksforgeeks.org/copyright-information/', 'https://www.geeksforgeeks.org/cookie-policy/', 'https://www.geeksforgeeks.org/privacy-policy/']\n",
            "Headings: ['Data Structures and Algorithms', 'ML & Data Science', 'Web Development', 'Languages', 'Interview Corner', 'CS Subjects', 'Jobs', 'Practice', 'Contests']\n"
          ]
        }
      ],
      "source": [
        "url = \"https://www.geeksforgeeks.org/\"\n",
        "response = requests.get(url)\n",
        "soup = BeautifulSoup(response.content, \"html.parser\")\n",
        "\n",
        "# Find all <a> tags to get URLs\n",
        "links = soup.find_all('a')\n",
        "urls = [link.get('href') for link in links if link.get('href')]\n",
        "\n",
        "# Find all headings (h1 to h6)\n",
        "headings = soup.find_all(['h1', 'h2', 'h3', 'h4', 'h5', 'h6'])\n",
        "headings_text = [heading.text.strip() for heading in headings]\n",
        "\n",
        "print(\"URLs:\", urls)\n",
        "print(\"Headings:\", headings_text)"
      ]
    },
    {
      "cell_type": "markdown",
      "metadata": {
        "id": "RFBQzaFZLgOT"
      },
      "source": [
        "# R Implementation"
      ]
    },
    {
      "cell_type": "code",
      "execution_count": 14,
      "metadata": {
        "colab": {
          "base_uri": "https://localhost:8080/"
        },
        "id": "-pxqdYi-O5hT",
        "outputId": "48a391b2-4bb9-4206-9779-af911e98327f"
      },
      "outputs": [
        {
          "output_type": "stream",
          "name": "stderr",
          "text": [
            "Installing package into ‘/usr/local/lib/R/site-library’\n",
            "(as ‘lib’ is unspecified)\n",
            "\n"
          ]
        }
      ],
      "source": [
        "install.packages(\"tokenizers\")"
      ]
    },
    {
      "cell_type": "code",
      "source": [
        "install.packages(\"tm\")\n"
      ],
      "metadata": {
        "id": "GFiRBdt_QO07",
        "outputId": "d0652d33-a49d-4392-ad75-86f8ef6939cf",
        "colab": {
          "base_uri": "https://localhost:8080/"
        }
      },
      "execution_count": 9,
      "outputs": [
        {
          "output_type": "stream",
          "name": "stderr",
          "text": [
            "Installing package into ‘/usr/local/lib/R/site-library’\n",
            "(as ‘lib’ is unspecified)\n",
            "\n",
            "also installing the dependencies ‘NLP’, ‘slam’, ‘BH’\n",
            "\n",
            "\n"
          ]
        }
      ]
    },
    {
      "cell_type": "code",
      "source": [
        "install.packages(\"Snowbalic\")\n"
      ],
      "metadata": {
        "id": "TzF8_J_zQfhT",
        "outputId": "df957dc4-1eff-4145-cef3-5390a9138369",
        "colab": {
          "base_uri": "https://localhost:8080/"
        }
      },
      "execution_count": 10,
      "outputs": [
        {
          "output_type": "stream",
          "name": "stderr",
          "text": [
            "Installing package into ‘/usr/local/lib/R/site-library’\n",
            "(as ‘lib’ is unspecified)\n",
            "\n"
          ]
        }
      ]
    },
    {
      "cell_type": "code",
      "execution_count": 19,
      "metadata": {
        "colab": {
          "base_uri": "https://localhost:8080/"
        },
        "id": "zcc4ZGm7LjDr",
        "outputId": "15b76532-8763-4ee5-e285-9444438a864e"
      },
      "outputs": [
        {
          "output_type": "stream",
          "name": "stdout",
          "text": [
            " [1] \"welcome\"        \"to\"             \"geeks\"          \"for\"           \n",
            " [5] \"geeks.embark\"   \"on\"             \"an\"             \"extraordinary\" \n",
            " [9] \"coding\"         \"odyssey\"        \"with\"           \"our\"           \n",
            "[13] \"groundbreaking\" \"course\"         \"dsa\"            \"to\"            \n",
            "[17] \"development\"    \"complete\"       \"coding\"         \"guide\"         \n",
            "[21] \"discover\"       \"the\"            \"transformative\" \"power\"         \n",
            "[25] \"of\"             \"mastering\"      \"data\"           \"structures\"    \n",
            "[29] \"and\"            \"algorithms\"     \"dsa\"            \"as\"            \n",
            "[33] \"you\"            \"venture\"        \"towards\"        \"becoming\"      \n",
            "[37] \"a\"              \"proficient\"     \"developer\"     \n"
          ]
        }
      ],
      "source": [
        "library(tokenizers)\n",
        "\n",
        "# Sample text\n",
        "text <- \"Welcome to Geeks for Geeks.Embark on an extraordinary coding odyssey with our\n",
        "groundbreaking course,\n",
        "DSA to Development - Complete Coding Guide! Discover the transformative power of mastering\n",
        "Data Structures and Algorithms\n",
        "(DSA) as you venture towards becoming a Proficient Developer.\"\n",
        "\n",
        "# Tokenize the text into words\n",
        "word_tokens <- unlist(tokenize_words(text))\n",
        "\n",
        "# Print the result\n",
        "print(word_tokens)"
      ]
    },
    {
      "cell_type": "code",
      "source": [
        "# Frequency distribution\n",
        "word_freq <- table(word_tokens)\n",
        "print(\"Frequency Distribution:\")\n",
        "print(word_freq)"
      ],
      "metadata": {
        "id": "6SsKMwMHSrgE",
        "outputId": "bb681140-c082-4013-cd72-38e355bb03e6",
        "colab": {
          "base_uri": "https://localhost:8080/"
        }
      },
      "execution_count": 22,
      "outputs": [
        {
          "output_type": "stream",
          "name": "stdout",
          "text": [
            "[1] \"Frequency Distribution:\"\n",
            "word_tokens\n",
            "             a     algorithms             an            and             as \n",
            "             1              1              1              1              1 \n",
            "      becoming         coding       complete         course           data \n",
            "             1              2              1              1              1 \n",
            "     developer    development       discover            dsa  extraordinary \n",
            "             1              1              1              2              1 \n",
            "           for          geeks   geeks.embark groundbreaking          guide \n",
            "             1              1              1              1              1 \n",
            "     mastering        odyssey             of             on            our \n",
            "             1              1              1              1              1 \n",
            "         power     proficient     structures            the             to \n",
            "             1              1              1              1              2 \n",
            "       towards transformative        venture        welcome           with \n",
            "             1              1              1              1              1 \n",
            "           you \n",
            "             1 \n"
          ]
        }
      ]
    },
    {
      "cell_type": "code",
      "source": [
        "install.packages(\"NLP\")\n",
        "install.packages(\"tokenizers\")"
      ],
      "metadata": {
        "id": "UwLQBZUdTyzj",
        "outputId": "41d74a35-e6ce-4ca6-d8cf-53110ed28913",
        "colab": {
          "base_uri": "https://localhost:8080/"
        }
      },
      "execution_count": 27,
      "outputs": [
        {
          "output_type": "stream",
          "name": "stderr",
          "text": [
            "Installing package into ‘/usr/local/lib/R/site-library’\n",
            "(as ‘lib’ is unspecified)\n",
            "\n",
            "Installing package into ‘/usr/local/lib/R/site-library’\n",
            "(as ‘lib’ is unspecified)\n",
            "\n"
          ]
        }
      ]
    },
    {
      "cell_type": "code",
      "source": [
        "install.packages(\"rvest\")"
      ],
      "metadata": {
        "id": "BW-BY-_yWMGz",
        "outputId": "8140d0cf-ca67-43b3-e4f8-5234fe6aac34",
        "colab": {
          "base_uri": "https://localhost:8080/"
        }
      },
      "execution_count": 30,
      "outputs": [
        {
          "output_type": "stream",
          "name": "stderr",
          "text": [
            "Installing package into ‘/usr/local/lib/R/site-library’\n",
            "(as ‘lib’ is unspecified)\n",
            "\n"
          ]
        }
      ]
    }
  ],
  "metadata": {
    "colab": {
      "provenance": []
    },
    "kernelspec": {
      "display_name": "R",
      "name": "ir"
    },
    "language_info": {
      "name": "R"
    }
  },
  "nbformat": 4,
  "nbformat_minor": 0
}